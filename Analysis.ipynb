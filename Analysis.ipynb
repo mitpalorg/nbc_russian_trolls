{
 "cells": [
  {
   "cell_type": "markdown",
   "metadata": {},
   "source": [
    "Link Shorteners\n",
    "If we look a the top domains from URLS from US trolls we'll find a gaggle of shortened links."
   ]
  },
  {
   "cell_type": "markdown",
   "metadata": {},
   "source": [
    "Figures legend:\n",
    "{F1} top shared domains (raw)"
   ]
  },
  {
   "cell_type": "code",
   "execution_count": null,
   "metadata": {
    "collapsed": true
   },
   "outputs": [],
   "source": []
  },
  {
   "cell_type": "code",
   "execution_count": null,
   "metadata": {
    "collapsed": true
   },
   "outputs": [],
   "source": [
    "{\n",
    "    'F1' : {'description' : 'List of top shared domains, with link-shorteners',\n",
    "            'status' : 1},\n",
    "    'F2' : {'description' : 'Screenshot from bit.ly dashboard',\n",
    "            'status' : 0},\n",
    "    'F3' : {'description' : 'Lines of code to open a link',\n",
    "            'status' : 0},\n",
    "    'F4' : {'description' : 'List of top un-shortened domains',\n",
    "            'status' : 0},\n",
    "    'F5' : {'description' : 'List of top un-shortened domains from Bit.ly and some more companies',\n",
    "            'status' : 0},\n",
    "    'F6' : {'description' : 'List of top shared news links from Breitbart, or waPo, and Infowars',\n",
    "            'status' : 0},\n",
    "    'F7' : {'description' : 'Lit of top shared youtube videos.',\n",
    "            'status' : 0},\n",
    "    'F8' : {'description' : 'Screenshot of OpenSources or BS detector in action',\n",
    "            'status' : 0},\n",
    "    'F9' : {'description' : 'Breakdown of opensources links by topic',\n",
    "            'status' : 0},\n",
    "    'F10' : {'description' : 'Per user breakdown links by topic',\n",
    "            'status' : 0},\n",
    "    'F11' : {'description' : 'Breakdown links by topic fo Sean Spicer, Richard Spencer, Alex Jones, Neutral ppl',\n",
    "            'status' : 0},\n",
    "    'F12' : {'description' : 'TSNE of user domains, and by opensources topics',\n",
    "            'status' : 0},\n",
    "    \n",
    "    \n",
    "}"
   ]
  },
  {
   "cell_type": "code",
   "execution_count": null,
   "metadata": {
    "collapsed": true
   },
   "outputs": [],
   "source": [
    "general_shorteners = [\n",
    "    'sh.st',  \n",
    "]\n",
    "\n",
    "trouble_shorteners = [\n",
    "    'dlvr.it', 'bit.ly', 'buff.ly',\n",
    "    'ow.ly',  'goo.gl', 'shar.es', \n",
    "    'ift.tt', 'fb.me',  'washex.am', 'smq.tc',  'trib.al',\n",
    "    'paper.li', 'waa.ai', 'tinyurl.com',\n",
    "]\n",
    "\n",
    "media_shorteners = [\n",
    "    'on.rt.com', 'wapo.st', 'hill.cm', 'dailym.ai',\n",
    "    'politi.co', 'fxn.ws', 'usat.ly', 'cnn.it',\n",
    "    'huff.to', 'nyp.st', 'cbsloc.al', 'nyti.ms',\n",
    "    'wpo.st', 'on.wsj.com', 'nydn.us',\n",
    "    \n",
    "]"
   ]
  },
  {
   "cell_type": "markdown",
   "metadata": {},
   "source": [
    "## Overview\n",
    "The top shared domains are curious.\n",
    "{F1}\n",
    "\n",
    "The first being bit.ly, a link shortener. bit.ly and other such companies (such as buff.ly, ow.ly, ift.tt, ETC.) are handy because in addition to being logging robust analytics {F2}, it obfuscates the domain for shortened links. Aside from companies that focus on link analytics, social networks (facebook, twitter, youtube, google) and media outlets (on.rt.com. nyti.ms) also have link shorteners.\n",
    "\n",
    "We also see a great deal of of video content from Youtube (N={}).\n",
    "\n",
    "Also there is a signifigant portion of media sites.\n",
    "I am not sure there is a list of news domains with poltical orientation (if there is please let me know!), however Greg Eady (a Post-Doc at our lab) is leading an initiative to make reliable lists of media outlets and politicians, which will be been scored for political partiy using methods from Pablo B (read more about it here).\n",
    "\n",
    "A dead giveaway for Bot activities are social media managers, such as Twibble, dlvr.it, shar.es.\n",
    "These websites are practically bot-nets as a service."
   ]
  },
  {
   "cell_type": "markdown",
   "metadata": {},
   "source": [
    "## Unshortening Links\n",
    "We can use Python to programmatically visit all shortened links, and following any redirects to the end.\n",
    "Although this can be done with 3 lines of code {F3}, we need to be patient, and to handle errors for sites that have been removed -- such as blacktolive.com and makethisnationgreat again.\n",
    "\n",
    "After a few hours, most of these obfuscated links have been debunked.\n",
    "\n",
    "Here is a breakdown of redirects {F4}.\n",
    "\n",
    "Here is a beakdown per link-shortening service, where they ended up {F5}.\n",
    "\n",
    "Notice that almost all media outlets, and social platforms also have link shorteners. While we are at it, we will expand them too.\n",
    "\n",
    "Here are the most shared news articles from this list of domains {F6}.\n",
    "\n",
    "Here is a list of the most shared youtube videos {F7}:"
   ]
  },
  {
   "cell_type": "markdown",
   "metadata": {},
   "source": [
    "## The Plight of Fake News and Misinformation\n",
    "Using the opensources.co dataset curated by X and collegues from merrimack collage, we can apply the same scrutiny methods used by the BS dectector chrome application.\n",
    "\n",
    "{F8}\n",
    "\n",
    "When we match sites in that list with what we're given, we can break down the types of misinformation shared by all users.\n",
    "\n",
    "{F9}\n",
    "\n",
    "As well, as the breakdown per user.\n",
    "\n",
    "{F10}\n",
    "\n",
    "For reference this is the breakdown of questionable links from persons like Sean Spicer, Alex Jones, Trump, Obama, Hillary, me, and my bosses X, Y, Z.\n",
    "\n",
    "{F11}\n",
    "\n",
    "Can we use the breakdown of links shared by users to sniff out political bots?\n",
    "Here's a map of all bots who've shared links, as well as the key persons from above colored blue.\n",
    "\n",
    "{F12}\n",
    "\n",
    "How was this map made?\n",
    "\n",
    "Machine learning is a way of finding patterns in data to make generalizations that apply to data that it has yet to see. We show the model patterns of link sharing across all available domains (the most granular dataset spanning XXX domains). If we can bunch sites together, the way that opensources has, we can get data that has been better organized. Once we have completed out list of domains, and calculated their political standing we can have a more nuanced dataset for this model.\n",
    "\n"
   ]
  }
 ],
 "metadata": {
  "kernelspec": {
   "display_name": "Python 3",
   "language": "python",
   "name": "python3"
  },
  "language_info": {
   "codemirror_mode": {
    "name": "ipython",
    "version": 3
   },
   "file_extension": ".py",
   "mimetype": "text/x-python",
   "name": "python",
   "nbconvert_exporter": "python",
   "pygments_lexer": "ipython3",
   "version": "3.6.2"
  }
 },
 "nbformat": 4,
 "nbformat_minor": 2
}
