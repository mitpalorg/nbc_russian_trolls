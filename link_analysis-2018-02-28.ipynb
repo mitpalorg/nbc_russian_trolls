{
 "cells": [
  {
   "cell_type": "markdown",
   "metadata": {},
   "source": [
    "# Analyzing Links From Russian Trolls\n",
    "by [Leon Yin](twitter.com/leonyin)<br>\n",
    "2018-02-20\n",
    "\n",
    "<a href=\"https://www.nbcnews.com/tech/social-media/now-available-more-200-000-deleted-russian-troll-tweets-n844731\">Link of dataset</a>"
   ]
  },
  {
   "cell_type": "code",
   "execution_count": 28,
   "metadata": {
    "collapsed": true
   },
   "outputs": [],
   "source": [
    "import os\n",
    "import json\n",
    "import time\n",
    "import itertools\n",
    "import requests\n",
    "from urllib.parse import urlparse\n",
    "\n",
    "import unshortenit\n",
    "import pandas as pd\n",
    "from tqdm._tqdm_notebook import tqdm_notebook as tqdm"
   ]
  },
  {
   "cell_type": "code",
   "execution_count": 5,
   "metadata": {},
   "outputs": [
    {
     "name": "stdout",
     "output_type": "stream",
     "text": [
      "200631\n"
     ]
    },
    {
     "data": {
      "text/html": [
       "<div>\n",
       "<table border=\"1\" class=\"dataframe\">\n",
       "  <thead>\n",
       "    <tr style=\"text-align: right;\">\n",
       "      <th></th>\n",
       "      <th>user_id</th>\n",
       "      <th>user_key</th>\n",
       "      <th>created_at</th>\n",
       "      <th>created_str</th>\n",
       "      <th>retweet_count</th>\n",
       "      <th>retweeted</th>\n",
       "      <th>favorite_count</th>\n",
       "      <th>text</th>\n",
       "      <th>tweet_id</th>\n",
       "      <th>source</th>\n",
       "      <th>hashtags</th>\n",
       "      <th>expanded_urls</th>\n",
       "      <th>posted</th>\n",
       "      <th>mentions</th>\n",
       "      <th>retweeted_status_id</th>\n",
       "      <th>in_reply_to_status_id</th>\n",
       "    </tr>\n",
       "  </thead>\n",
       "  <tbody>\n",
       "    <tr>\n",
       "      <th>0</th>\n",
       "      <td>2532611755</td>\n",
       "      <td>kathiemrr</td>\n",
       "      <td>1.488207e+12</td>\n",
       "      <td>2017-02-27 14:54:00</td>\n",
       "      <td>NaN</td>\n",
       "      <td>NaN</td>\n",
       "      <td>NaN</td>\n",
       "      <td>#ThingsDoneByMistake kissing auntie in the lips</td>\n",
       "      <td>836227891897651201</td>\n",
       "      <td>NaN</td>\n",
       "      <td>[\"ThingsDoneByMistake\"]</td>\n",
       "      <td>[]</td>\n",
       "      <td>POSTED</td>\n",
       "      <td>[]</td>\n",
       "      <td>NaN</td>\n",
       "      <td>NaN</td>\n",
       "    </tr>\n",
       "    <tr>\n",
       "      <th>1</th>\n",
       "      <td>2531159968</td>\n",
       "      <td>traceyhappymom</td>\n",
       "      <td>1.471273e+12</td>\n",
       "      <td>2016-08-15 14:50:20</td>\n",
       "      <td>NaN</td>\n",
       "      <td>NaN</td>\n",
       "      <td>NaN</td>\n",
       "      <td>RT @mc_derpin: #TheOlderWeGet the more pessimi...</td>\n",
       "      <td>765198948239810561</td>\n",
       "      <td>NaN</td>\n",
       "      <td>[\"TheOlderWeGet\"]</td>\n",
       "      <td>[]</td>\n",
       "      <td>POSTED</td>\n",
       "      <td>[]</td>\n",
       "      <td>NaN</td>\n",
       "      <td>NaN</td>\n",
       "    </tr>\n",
       "    <tr>\n",
       "      <th>2</th>\n",
       "      <td>NaN</td>\n",
       "      <td>evewebster373</td>\n",
       "      <td>1.435701e+12</td>\n",
       "      <td>2015-06-30 21:56:09</td>\n",
       "      <td>NaN</td>\n",
       "      <td>NaN</td>\n",
       "      <td>NaN</td>\n",
       "      <td>RT @dmataconis: Ready To Feel Like A Failure? ...</td>\n",
       "      <td>616002306572746752</td>\n",
       "      <td>NaN</td>\n",
       "      <td>[]</td>\n",
       "      <td>[]</td>\n",
       "      <td>POSTED</td>\n",
       "      <td>[]</td>\n",
       "      <td>NaN</td>\n",
       "      <td>NaN</td>\n",
       "    </tr>\n",
       "  </tbody>\n",
       "</table>\n",
       "</div>"
      ],
      "text/plain": [
       "      user_id        user_key    created_at          created_str  \\\n",
       "0  2532611755       kathiemrr  1.488207e+12  2017-02-27 14:54:00   \n",
       "1  2531159968  traceyhappymom  1.471273e+12  2016-08-15 14:50:20   \n",
       "2         NaN   evewebster373  1.435701e+12  2015-06-30 21:56:09   \n",
       "\n",
       "   retweet_count retweeted  favorite_count  \\\n",
       "0            NaN       NaN             NaN   \n",
       "1            NaN       NaN             NaN   \n",
       "2            NaN       NaN             NaN   \n",
       "\n",
       "                                                text            tweet_id  \\\n",
       "0    #ThingsDoneByMistake kissing auntie in the lips  836227891897651201   \n",
       "1  RT @mc_derpin: #TheOlderWeGet the more pessimi...  765198948239810561   \n",
       "2  RT @dmataconis: Ready To Feel Like A Failure? ...  616002306572746752   \n",
       "\n",
       "  source                 hashtags expanded_urls  posted mentions  \\\n",
       "0    NaN  [\"ThingsDoneByMistake\"]            []  POSTED       []   \n",
       "1    NaN        [\"TheOlderWeGet\"]            []  POSTED       []   \n",
       "2    NaN                       []            []  POSTED       []   \n",
       "\n",
       "   retweeted_status_id  in_reply_to_status_id  \n",
       "0                  NaN                    NaN  \n",
       "1                  NaN                    NaN  \n",
       "2                  NaN                    NaN  "
      ]
     },
     "execution_count": 5,
     "metadata": {},
     "output_type": "execute_result"
    }
   ],
   "source": [
    "tweet_url = 'http://nodeassets.nbcnews.com/russian-twitter-trolls/tweets.csv'\n",
    "df_tweets = pd.read_csv(tweet_url, dtype={'id' : str, 'user_id' : str, 'tweet_id' : str})\n",
    "df_tweets.drop_duplicates(subset=['tweet_id'], inplace=True)\n",
    "print(\"N = {}\".format(len(df_tweets)))\n",
    "df_tweets.head(3)"
   ]
  },
  {
   "cell_type": "code",
   "execution_count": 6,
   "metadata": {},
   "outputs": [
    {
     "name": "stdout",
     "output_type": "stream",
     "text": [
      "453\n"
     ]
    },
    {
     "data": {
      "text/html": [
       "<div>\n",
       "<table border=\"1\" class=\"dataframe\">\n",
       "  <thead>\n",
       "    <tr style=\"text-align: right;\">\n",
       "      <th></th>\n",
       "      <th>id</th>\n",
       "      <th>location</th>\n",
       "      <th>name</th>\n",
       "      <th>followers_count</th>\n",
       "      <th>statuses_count</th>\n",
       "      <th>time_zone</th>\n",
       "      <th>verified</th>\n",
       "      <th>lang</th>\n",
       "      <th>screen_name</th>\n",
       "      <th>description</th>\n",
       "      <th>created_at</th>\n",
       "      <th>favourites_count</th>\n",
       "      <th>friends_count</th>\n",
       "      <th>listed_count</th>\n",
       "    </tr>\n",
       "  </thead>\n",
       "  <tbody>\n",
       "    <tr>\n",
       "      <th>0</th>\n",
       "      <td>100345056</td>\n",
       "      <td>still ⬆️Block⤵️Corner⬇️street</td>\n",
       "      <td>#Ezekiel2517✨...</td>\n",
       "      <td>1053.0</td>\n",
       "      <td>31858.0</td>\n",
       "      <td>NaN</td>\n",
       "      <td>False</td>\n",
       "      <td>en</td>\n",
       "      <td>SCOTTGOHARD</td>\n",
       "      <td>CELEBRITY TRAINER ✨#424W147th✨ #CrossfitCoach ...</td>\n",
       "      <td>Tue Dec 29 23:15:22 +0000 2009</td>\n",
       "      <td>2774.0</td>\n",
       "      <td>1055.0</td>\n",
       "      <td>35.0</td>\n",
       "    </tr>\n",
       "    <tr>\n",
       "      <th>1</th>\n",
       "      <td>247165706</td>\n",
       "      <td>Chicago, IL</td>\n",
       "      <td>B E C K S T E R✨</td>\n",
       "      <td>650.0</td>\n",
       "      <td>6742.0</td>\n",
       "      <td>Mountain Time (US &amp; Canada)</td>\n",
       "      <td>False</td>\n",
       "      <td>en</td>\n",
       "      <td>Beckster319</td>\n",
       "      <td>Rebecca Lynn Hirschfeld Actress.Model.Writer.A...</td>\n",
       "      <td>Fri Feb 04 06:38:45 +0000 2011</td>\n",
       "      <td>7273.0</td>\n",
       "      <td>896.0</td>\n",
       "      <td>30.0</td>\n",
       "    </tr>\n",
       "    <tr>\n",
       "      <th>2</th>\n",
       "      <td>249538861</td>\n",
       "      <td>NaN</td>\n",
       "      <td>Chris Osborne</td>\n",
       "      <td>44.0</td>\n",
       "      <td>843.0</td>\n",
       "      <td>NaN</td>\n",
       "      <td>False</td>\n",
       "      <td>en</td>\n",
       "      <td>skatewake1994</td>\n",
       "      <td>NaN</td>\n",
       "      <td>Wed Feb 09 07:38:44 +0000 2011</td>\n",
       "      <td>227.0</td>\n",
       "      <td>154.0</td>\n",
       "      <td>1.0</td>\n",
       "    </tr>\n",
       "  </tbody>\n",
       "</table>\n",
       "</div>"
      ],
      "text/plain": [
       "          id                       location              name  \\\n",
       "0  100345056  still ⬆️Block⤵️Corner⬇️street  #Ezekiel2517✨...   \n",
       "1  247165706                    Chicago, IL  B E C K S T E R✨   \n",
       "2  249538861                            NaN     Chris Osborne   \n",
       "\n",
       "   followers_count  statuses_count                    time_zone verified lang  \\\n",
       "0           1053.0         31858.0                          NaN    False   en   \n",
       "1            650.0          6742.0  Mountain Time (US & Canada)    False   en   \n",
       "2             44.0           843.0                          NaN    False   en   \n",
       "\n",
       "     screen_name                                        description  \\\n",
       "0    SCOTTGOHARD  CELEBRITY TRAINER ✨#424W147th✨ #CrossfitCoach ...   \n",
       "1    Beckster319  Rebecca Lynn Hirschfeld Actress.Model.Writer.A...   \n",
       "2  skatewake1994                                                NaN   \n",
       "\n",
       "                       created_at  favourites_count  friends_count  \\\n",
       "0  Tue Dec 29 23:15:22 +0000 2009            2774.0         1055.0   \n",
       "1  Fri Feb 04 06:38:45 +0000 2011            7273.0          896.0   \n",
       "2  Wed Feb 09 07:38:44 +0000 2011             227.0          154.0   \n",
       "\n",
       "   listed_count  \n",
       "0          35.0  \n",
       "1          30.0  \n",
       "2           1.0  "
      ]
     },
     "execution_count": 6,
     "metadata": {},
     "output_type": "execute_result"
    }
   ],
   "source": [
    "user_url = 'http://nodeassets.nbcnews.com/russian-twitter-trolls/users.csv'\n",
    "df_users = pd.read_csv(user_url, dtype={'id' : str})\n",
    "print(\"N = {}\".format(len(df_users)))\n",
    "df_users.head(3)"
   ]
  },
  {
   "cell_type": "markdown",
   "metadata": {},
   "source": [
    "## Link Analysis <a id=\"link\"></a>\n",
    "Let's strip all the links out of the tweet.<br>\n",
    "We can't just return the value, as there can be multiple links per Tweet.<br>\n",
    "We can solve this by using a generator, and unpacking each using `itertools`."
   ]
  },
  {
   "cell_type": "code",
   "execution_count": 7,
   "metadata": {
    "collapsed": true
   },
   "outputs": [],
   "source": [
    "def get_link(tweet):\n",
    "    '''\n",
    "    For pandas!\n",
    "    Returns a generator containing tweet metadata about media.\n",
    "    '''\n",
    "    row = {\n",
    "        'user.id': tweet['user_id'],\n",
    "        'tweet.id': tweet['tweet_id'],\n",
    "        'tweet.created_at': tweet['created_str'],\n",
    "        'tweet.text' : tweet['text']\n",
    "    }\n",
    "\n",
    "    list_urls = tweet['expanded_urls']\n",
    "    \n",
    "    if list_urls:\n",
    "        for url in list_urls:\n",
    "            r = row.copy()\n",
    "            r['link.url_long'] = url\n",
    "            if r['link.url_long']:\n",
    "                r['link.domain'] = urlparse(r['link.url_long']).netloc.lower()\n",
    "                yield r  "
   ]
  },
  {
   "cell_type": "code",
   "execution_count": 8,
   "metadata": {
    "collapsed": true
   },
   "outputs": [],
   "source": [
    "# load the string into a list, and remove duplcates by casting the list as a set.\n",
    "df_tweets['expanded_urls'] = df_tweets['expanded_urls'].apply(lambda x : set(json.loads(x)))"
   ]
  },
  {
   "cell_type": "code",
   "execution_count": 10,
   "metadata": {},
   "outputs": [
    {
     "data": {
      "application/vnd.jupyter.widget-view+json": {
       "model_id": "f83867b82f3e413fb90b92ec88b83c55",
       "version_major": 2,
       "version_minor": 0
      },
      "text/plain": [
       "A Jupyter Widget"
      ]
     },
     "metadata": {},
     "output_type": "display_data"
    },
    {
     "name": "stdout",
     "output_type": "stream",
     "text": [
      "\n"
     ]
    }
   ],
   "source": [
    "df_links = pd.DataFrame(\n",
    "    list(\n",
    "        itertools.chain.from_iterable(\n",
    "            [ get_link( tweet[1] ) for tweet in tqdm( df_tweets.iterrows() ) if tweet ]\n",
    "        )\n",
    "    )\n",
    ")"
   ]
  },
  {
   "cell_type": "code",
   "execution_count": 12,
   "metadata": {},
   "outputs": [
    {
     "name": "stdout",
     "output_type": "stream",
     "text": [
      "19330\n"
     ]
    },
    {
     "data": {
      "text/html": [
       "<div>\n",
       "<table border=\"1\" class=\"dataframe\">\n",
       "  <thead>\n",
       "    <tr style=\"text-align: right;\">\n",
       "      <th></th>\n",
       "      <th>link.domain</th>\n",
       "      <th>link.url_long</th>\n",
       "      <th>tweet.created_at</th>\n",
       "      <th>tweet.id</th>\n",
       "      <th>tweet.text</th>\n",
       "      <th>user.id</th>\n",
       "    </tr>\n",
       "  </thead>\n",
       "  <tbody>\n",
       "    <tr>\n",
       "      <th>0</th>\n",
       "      <td>ln.is</td>\n",
       "      <td>http://ln.is/twitchy.com/loriz-31/3yafU</td>\n",
       "      <td>2016-09-18 19:46:25</td>\n",
       "      <td>777594647875059712</td>\n",
       "      <td>RT @NahBabyNah: Twitchy: Chuck Todd caught out...</td>\n",
       "      <td>1694026190</td>\n",
       "    </tr>\n",
       "    <tr>\n",
       "      <th>2</th>\n",
       "      <td>freedomoutpost.com</td>\n",
       "      <td>http://freedomoutpost.com/2013/02/the-use-of-r...</td>\n",
       "      <td>2016-09-19 13:20:08</td>\n",
       "      <td>777859822679158784</td>\n",
       "      <td>RT @leonpui_: Hillary Clinton, Obama and the D...</td>\n",
       "      <td>1649967228</td>\n",
       "    </tr>\n",
       "    <tr>\n",
       "      <th>3</th>\n",
       "      <td>www.informationliberation.com</td>\n",
       "      <td>http://www.informationliberation.com/?id=55568</td>\n",
       "      <td>2016-09-30 23:29:54</td>\n",
       "      <td>781999544502521857</td>\n",
       "      <td>RT @PrisonPlanet: Hillary's anti-Trump poster ...</td>\n",
       "      <td>2606301939</td>\n",
       "    </tr>\n",
       "  </tbody>\n",
       "</table>\n",
       "</div>"
      ],
      "text/plain": [
       "                     link.domain  \\\n",
       "0                          ln.is   \n",
       "2             freedomoutpost.com   \n",
       "3  www.informationliberation.com   \n",
       "\n",
       "                                       link.url_long     tweet.created_at  \\\n",
       "0            http://ln.is/twitchy.com/loriz-31/3yafU  2016-09-18 19:46:25   \n",
       "2  http://freedomoutpost.com/2013/02/the-use-of-r...  2016-09-19 13:20:08   \n",
       "3     http://www.informationliberation.com/?id=55568  2016-09-30 23:29:54   \n",
       "\n",
       "             tweet.id                                         tweet.text  \\\n",
       "0  777594647875059712  RT @NahBabyNah: Twitchy: Chuck Todd caught out...   \n",
       "2  777859822679158784  RT @leonpui_: Hillary Clinton, Obama and the D...   \n",
       "3  781999544502521857  RT @PrisonPlanet: Hillary's anti-Trump poster ...   \n",
       "\n",
       "      user.id  \n",
       "0  1694026190  \n",
       "2  1649967228  \n",
       "3  2606301939  "
      ]
     },
     "execution_count": 12,
     "metadata": {},
     "output_type": "execute_result"
    }
   ],
   "source": [
    "df_links = df_links[df_links['link.domain'] != 'twitter.com']\n",
    "print(\"N = {}\".format(len(df_links)))\n",
    "df_links.head(3)"
   ]
  },
  {
   "cell_type": "code",
   "execution_count": 13,
   "metadata": {},
   "outputs": [
    {
     "data": {
      "text/plain": [
       "bit.ly                    4442\n",
       "twibble.io                 945\n",
       "youtu.be                   472\n",
       "wapo.st                    465\n",
       "ln.is                      459\n",
       "www.breitbart.com          377\n",
       "dlvr.it                    335\n",
       "www.youtube.com            305\n",
       "sh.st                      297\n",
       "fb.me                      250\n",
       "ow.ly                      242\n",
       "goo.gl                     214\n",
       "www.wcvb.com               210\n",
       "buff.ly                    198\n",
       "dailycaller.com            197\n",
       "hill.cm                    184\n",
       "on.rt.com                  168\n",
       "www.huffingtonpost.com     163\n",
       "www.nytimes.com            163\n",
       "ift.tt                     147\n",
       "Name: link.domain, dtype: int64"
      ]
     },
     "execution_count": 13,
     "metadata": {},
     "output_type": "execute_result"
    }
   ],
   "source": [
    "# first 25 shared domains\n",
    "df_links['link.domain'].value_counts().head(25)"
   ]
  },
  {
   "cell_type": "markdown",
   "metadata": {},
   "source": [
    "## Unshortening links\n",
    "Which links will we unshorten?\n",
    "Lets filter all link domains for the ones in the lists ahove"
   ]
  },
  {
   "cell_type": "code",
   "execution_count": 14,
   "metadata": {
    "collapsed": true,
    "scrolled": true
   },
   "outputs": [],
   "source": [
    "# domains for links\n",
    "general_shorteners = [\n",
    "    'dlvr.it', 'bit.ly', 'buff.ly',\n",
    "    'ow.ly',  'goo.gl', 'shar.es', \n",
    "    'ift.tt', 'fb.me',  'washex.am', \n",
    "    'smq.tc', 'trib.al', 'paper.li', \n",
    "    'waa.ai', 'tinyurl.com',\n",
    "]\n",
    "\n",
    "# requires pushing an ad, I think.\n",
    "trouble_shorteners = [\n",
    "    'sh.st',  \n",
    "]\n",
    "\n",
    "media_shorteners = [\n",
    "    'on.rt.com', 'wapo.st', 'hill.cm', \n",
    "    'dailym.ai', 'politi.co', 'fxn.ws', \n",
    "    'usat.ly', 'cnn.it', 'huff.to', \n",
    "    'nyp.st', 'cbsloc.al', 'nyti.ms',\n",
    "    'wpo.st', 'on.wsj.com', 'nydn.us', \n",
    "]\n",
    "\n",
    "shortened_domains = media_shorteners + general_shorteners\n",
    "shortened_domains_2 = trouble_shorteners\n",
    "all_short_domains = shortened_domains + shortened_domains_2 + ['ln.is']"
   ]
  },
  {
   "cell_type": "code",
   "execution_count": null,
   "metadata": {
    "collapsed": true
   },
   "outputs": [],
   "source": [
    "def parse_error(row):\n",
    "    '''\n",
    "    Parse shortened links that redirect to an invalid address.\n",
    "    '''\n",
    "    if 'HTTPConnectionPool' in row:\n",
    "        vals = row.split(\"HTTPConnectionPool(host='\")[1].split(\"',\")\n",
    "        domain = vals[0]\n",
    "        url_endpoint = (vals[1].split('Max retries exceeded with url: ')[-1].\n",
    "                        split(\" (Caused by\")[0])\n",
    "        url_endpoint = os.path.join('http://', domain + url_endpoint)\n",
    "    else:\n",
    "        domain, url_endpoint = -1, -1\n",
    "    \n",
    "    return domain, url_endpoint\n",
    "\n",
    "def unshorten(link):\n",
    "    '''\n",
    "    Expands shortened urls with different approaches, depending on the shortening service.\n",
    "    There is no error handling for domains that are not in shortened_domains, or shortened_domains_2.\n",
    "    '''\n",
    "    if link['link.domain'] in shortened_domains_2:\n",
    "        # expland long link\n",
    "        url_long, code = unshortenit.unshorten(link['link.url_long'])\n",
    "        time.sleep(.4)\n",
    "        domain = urlparse(url_long).netloc.lower()\n",
    "        \n",
    "    elif link['link.domain'] in shortened_domains:\n",
    "        try:\n",
    "            r = requests.head(link['link.url_long'], allow_redirects=True)\n",
    "            url_long = r.url\n",
    "            time.sleep(.4)\n",
    "            domain = urlparse(url_long).netloc.lower()\n",
    "        \n",
    "        except requests.exceptions.RequestException as e:\n",
    "            domain, url_long = parse_error(str(e))\n",
    "                        \n",
    "    elif link['link.domain'] == 'ln.is':\n",
    "        url_long = link['link.url_long'].replace('ln.is/', '')\n",
    "        time.sleep(.4)\n",
    "        domain = urlparse(url_long).netloc.lower()\n",
    "    \n",
    "    return {'link.domain': link['link.domain'],\n",
    "            'link.url_long' : link['link.url_long'], \n",
    "            'link.domain_resolved' : domain,\n",
    "            'link.url_long_resolved': url_long}"
   ]
  },
  {
   "cell_type": "code",
   "execution_count": 17,
   "metadata": {},
   "outputs": [
    {
     "data": {
      "text/plain": [
       "7744"
      ]
     },
     "execution_count": 17,
     "metadata": {},
     "output_type": "execute_result"
    }
   ],
   "source": [
    "df_link_match = df_links[df_links['link.domain'].isin(all_short_domains)]\n",
    "df_link_match_unique = df_link_match.drop_duplicates(subset=['link.url_long'])\n",
    "len(df_link_match_unique)"
   ]
  },
  {
   "cell_type": "code",
   "execution_count": 19,
   "metadata": {
    "collapsed": true
   },
   "outputs": [],
   "source": [
    "df_link_match_unique.to_csv('data/unique_links.csv', index=False)"
   ]
  },
  {
   "cell_type": "markdown",
   "metadata": {},
   "source": [
    "Unshorten all the links"
   ]
  },
  {
   "cell_type": "code",
   "execution_count": 149,
   "metadata": {
    "scrolled": true
   },
   "outputs": [],
   "source": [
    "df_link_match_unique.reset_index(drop=True, inplace=True)\n",
    "with open('data/resolved_link_cache.json', 'w+') as file: \n",
    "    for i, row in tqdm(df_link_match_unique[796:].iterrows()):\n",
    "        if i % 100 == 0:\n",
    "            print(\"sleeping\")\n",
    "            time.sleep(15)\n",
    "        d = unshorten(row)\n",
    "        unshortened_link_meta.append( d )\n",
    "        file.write( json.dumps( d ) + '\\n' )"
   ]
  },
  {
   "cell_type": "code",
   "execution_count": 33,
   "metadata": {
    "collapsed": true
   },
   "outputs": [],
   "source": [
    "df_link_meta = pd.DataFrame(unshortened_link_meta)\n",
    "df_link_meta.to_csv('data/resolved_links.csv', index=False)"
   ]
  },
  {
   "cell_type": "code",
   "execution_count": 45,
   "metadata": {},
   "outputs": [],
   "source": [
    "df_link_meta['link.domain_resolved'] = df_link_meta['link.domain_resolved'].astype(str)"
   ]
  },
  {
   "cell_type": "code",
   "execution_count": 34,
   "metadata": {},
   "outputs": [
    {
     "data": {
      "text/html": [
       "<div>\n",
       "<table border=\"1\" class=\"dataframe\">\n",
       "  <thead>\n",
       "    <tr style=\"text-align: right;\">\n",
       "      <th></th>\n",
       "      <th>link.domain</th>\n",
       "      <th>link.domain_resolved</th>\n",
       "      <th>link.url_long</th>\n",
       "      <th>link.url_long_resolved</th>\n",
       "    </tr>\n",
       "  </thead>\n",
       "  <tbody>\n",
       "    <tr>\n",
       "      <th>0</th>\n",
       "      <td>ln.is</td>\n",
       "      <td>twitchy.com</td>\n",
       "      <td>http://ln.is/twitchy.com/loriz-31/3yafU</td>\n",
       "      <td>http://twitchy.com/loriz-31/3yafU</td>\n",
       "    </tr>\n",
       "    <tr>\n",
       "      <th>1</th>\n",
       "      <td>ift.tt</td>\n",
       "      <td>www.freerepublic.com</td>\n",
       "      <td>http://ift.tt/2dAvZEE</td>\n",
       "      <td>http://www.freerepublic.com/focus/f-news/34776...</td>\n",
       "    </tr>\n",
       "    <tr>\n",
       "      <th>2</th>\n",
       "      <td>bit.ly</td>\n",
       "      <td>www.nola.com</td>\n",
       "      <td>http://bit.ly/2aT5p6d</td>\n",
       "      <td>http://www.nola.com/politics/index.ssf/2016/08...</td>\n",
       "    </tr>\n",
       "  </tbody>\n",
       "</table>\n",
       "</div>"
      ],
      "text/plain": [
       "  link.domain  link.domain_resolved                            link.url_long  \\\n",
       "0       ln.is           twitchy.com  http://ln.is/twitchy.com/loriz-31/3yafU   \n",
       "1      ift.tt  www.freerepublic.com                    http://ift.tt/2dAvZEE   \n",
       "2      bit.ly          www.nola.com                    http://bit.ly/2aT5p6d   \n",
       "\n",
       "                              link.url_long_resolved  \n",
       "0                  http://twitchy.com/loriz-31/3yafU  \n",
       "1  http://www.freerepublic.com/focus/f-news/34776...  \n",
       "2  http://www.nola.com/politics/index.ssf/2016/08...  "
      ]
     },
     "execution_count": 34,
     "metadata": {},
     "output_type": "execute_result"
    }
   ],
   "source": [
    "df_link_meta.head(3)"
   ]
  },
  {
   "cell_type": "markdown",
   "metadata": {},
   "source": [
    "We can merge these unshortened links back into the dataframe that has all links"
   ]
  },
  {
   "cell_type": "markdown",
   "metadata": {},
   "source": [
    "Analyzing the resolved links."
   ]
  },
  {
   "cell_type": "code",
   "execution_count": 38,
   "metadata": {},
   "outputs": [
    {
     "data": {
      "text/plain": [
       "www.sfgate.com          395\n",
       "ksnt.com                367\n",
       "www.cleveland.com       354\n",
       "www.kmbc.com            330\n",
       "www.nola.com            237\n",
       "www.reuters.com         220\n",
       "ksn.com                 206\n",
       "kron4.com               187\n",
       "www.nj.com              185\n",
       "www.breitbart.com       143\n",
       "www.azcentral.com        98\n",
       "www.nbcchicago.com       88\n",
       "www.wafb.com             69\n",
       "www.philly.com           68\n",
       "www.mysanantonio.com     65\n",
       "www.stltoday.com         65\n",
       "www.nbc12.com            50\n",
       "www.usatoday.com         48\n",
       "blacktolive.org          37\n",
       "www.patdollard.com       35\n",
       "www.seattletimes.com     33\n",
       "www.abc15.com            29\n",
       "www.wkyc.com             26\n",
       "www.detroitnews.com      26\n",
       "www.post-gazette.com     24\n",
       "Name: link.domain_resolved, dtype: int64"
      ]
     },
     "execution_count": 38,
     "metadata": {},
     "output_type": "execute_result"
    }
   ],
   "source": [
    "df_link_meta[df_link_meta['link.domain'] == 'bit.ly']['link.domain_resolved'].value_counts().head(25)"
   ]
  },
  {
   "cell_type": "code",
   "execution_count": 39,
   "metadata": {},
   "outputs": [
    {
     "data": {
      "text/plain": [
       "www.washingtonpost.com        473\n",
       "www.sfgate.com                395\n",
       "ksnt.com                      367\n",
       "www.cleveland.com             355\n",
       "www.kmbc.com                  330\n",
       "www.nola.com                  237\n",
       "www.breitbart.com             235\n",
       "www.reuters.com               220\n",
       "ksn.com                       206\n",
       "kron4.com                     187\n",
       "www.nj.com                    185\n",
       "thehill.com                   145\n",
       "www.dailymail.co.uk           138\n",
       "www.politico.com              123\n",
       "truthfeed.com                 107\n",
       "www.foxnews.com               107\n",
       "www.rt.com                    104\n",
       "www.youtube.com               102\n",
       "www.libertywritersnews.com    101\n",
       "dailycaller.com                99\n",
       "www.azcentral.com              98\n",
       "www.thegatewaypundit.com       95\n",
       "www.washingtonexaminer.com     91\n",
       "www.nbcchicago.com             88\n",
       "www.nydailynews.com            77\n",
       "Name: link.domain_resolved, dtype: int64"
      ]
     },
     "execution_count": 39,
     "metadata": {},
     "output_type": "execute_result"
    }
   ],
   "source": [
    "df_link_meta['link.domain_resolved'].value_counts().head(25)"
   ]
  },
  {
   "cell_type": "code",
   "execution_count": 118,
   "metadata": {
    "collapsed": true
   },
   "outputs": [],
   "source": [
    "# df_resolved = pd.merge(left= df_links, right= df_link_meta, \n",
    "#                        on= ['link.url_long', 'link.domain'])"
   ]
  },
  {
   "cell_type": "code",
   "execution_count": 40,
   "metadata": {
    "collapsed": true
   },
   "outputs": [],
   "source": [
    "def remove_www(site_str):\n",
    "    '''\n",
    "    Best attempt to standardize websites.\n",
    "    '''\n",
    "    return site_str.replace('www.', '').replace('http://', '').replace('https://', '').rstrip('/')\n",
    "\n",
    "def fill_resolved(row):\n",
    "    '''\n",
    "    If a the link was not resolved, the original link is used.\n",
    "    '''\n",
    "    if (not row['link.domain_resolved'] or \n",
    "        pd.isnull(row['link.domain_resolved']) or\n",
    "        row['link.domain_resolved'] == '-1'):   \n",
    "        return row['link.domain'], row['link.url_long']\n",
    "    else:\n",
    "        return row['link.domain_resolved'], row['link.url_long_resolved']"
   ]
  },
  {
   "cell_type": "code",
   "execution_count": 46,
   "metadata": {},
   "outputs": [],
   "source": [
    "df_merged = df_links.merge(df_link_meta, how='left',\n",
    "                           on= ['link.url_long', 'link.domain'])    \n",
    "\n",
    "(df_merged['link.domain_resolved'], \n",
    " df_merged['link.url_long_resolved']) = zip(*df_merged.apply(fill_resolved, axis=1))\n",
    "\n",
    "df_merged['link.domain_resolved'] = (df_merged['link.domain_resolved']\n",
    "                                         .replace({'youtu.be': 'www.youtube.com'})\n",
    "                                         .apply(remove_www))"
   ]
  },
  {
   "cell_type": "code",
   "execution_count": 52,
   "metadata": {},
   "outputs": [
    {
     "data": {
      "text/plain": [
       "sfgate.com             395\n",
       "ksnt.com               367\n",
       "cleveland.com          354\n",
       "kmbc.com               330\n",
       "nola.com               237\n",
       "reuters.com            222\n",
       "breitbart.com          209\n",
       "ksn.com                206\n",
       "kron4.com              187\n",
       "nj.com                 185\n",
       "azcentral.com           98\n",
       "nbcchicago.com          88\n",
       "wafb.com                69\n",
       "philly.com              68\n",
       "mysanantonio.com        65\n",
       "stltoday.com            65\n",
       "americanthinker.com     61\n",
       "nbc12.com               50\n",
       "usatoday.com            48\n",
       "patdollard.com          38\n",
       "blacktolive.org         37\n",
       "youtube.com             34\n",
       "seattletimes.com        33\n",
       "abc15.com               29\n",
       "detroitnews.com         26\n",
       "Name: link.domain_resolved, dtype: int64"
      ]
     },
     "execution_count": 52,
     "metadata": {},
     "output_type": "execute_result"
    }
   ],
   "source": [
    "df_merged[df_merged['link.domain'] == 'bit.ly']['link.domain_resolved'].value_counts().head(25)"
   ]
  },
  {
   "cell_type": "code",
   "execution_count": 53,
   "metadata": {},
   "outputs": [
    {
     "data": {
      "text/plain": [
       "twibble.io              945\n",
       "youtube.com             927\n",
       "breitbart.com           691\n",
       "washingtonpost.com      627\n",
       "sfgate.com              396\n",
       "ksnt.com                388\n",
       "cleveland.com           364\n",
       "kmbc.com                331\n",
       "dailycaller.com         313\n",
       "thehill.com             304\n",
       "reuters.com             277\n",
       "truthfeed.com           247\n",
       "nola.com                240\n",
       "thegatewaypundit.com    239\n",
       "nytimes.com             233\n",
       "huffingtonpost.com      226\n",
       "foxnews.com             223\n",
       "ksn.com                 216\n",
       "politico.com            214\n",
       "wcvb.com                210\n",
       "rt.com                  198\n",
       "dailymail.co.uk         196\n",
       "kron4.com               189\n",
       "nj.com                  189\n",
       "usatoday.com            154\n",
       "Name: link.domain_resolved, dtype: int64"
      ]
     },
     "execution_count": 53,
     "metadata": {},
     "output_type": "execute_result"
    }
   ],
   "source": [
    "df_merged['link.domain_resolved'].value_counts().head(25)"
   ]
  },
  {
   "cell_type": "markdown",
   "metadata": {},
   "source": [
    "## Questionable Media Domains <a id=\"fake\"></a>\n",
    "We can use the open sources dataset to filter domains on various criteria.<br>\n",
    "Here is a <a href=\"https://nbviewer.jupyter.org/github/yinleon/fake_news/blob/master/opensources-lite.ipynb\">notebook</a> that makes the data machine-readible."
   ]
  },
  {
   "cell_type": "code",
   "execution_count": 67,
   "metadata": {
    "collapsed": true
   },
   "outputs": [],
   "source": [
    "%matplotlib inline\n",
    "import datetime\n",
    "import numpy as np\n",
    "from matplotlib import pyplot as plt\n",
    "from sklearn.manifold import TSNE\n",
    "from scipy.stats import spearmanr"
   ]
  },
  {
   "cell_type": "code",
   "execution_count": 61,
   "metadata": {},
   "outputs": [
    {
     "data": {
      "text/plain": [
       "825"
      ]
     },
     "execution_count": 61,
     "metadata": {},
     "output_type": "execute_result"
    }
   ],
   "source": [
    "os_url = 'https://raw.githubusercontent.com/yinleon/fake_news/master/data/sources_clean.tsv?flush=true'\n",
    "df_os = pd.read_csv(os_url, sep='\\t', index_col=0)\n",
    "len(df_os)"
   ]
  },
  {
   "cell_type": "code",
   "execution_count": 63,
   "metadata": {},
   "outputs": [
    {
     "data": {
      "text/html": [
       "<div>\n",
       "<table border=\"1\" class=\"dataframe\">\n",
       "  <thead>\n",
       "    <tr style=\"text-align: right;\">\n",
       "      <th></th>\n",
       "      <th>domain</th>\n",
       "      <th>bias</th>\n",
       "      <th>clickbait</th>\n",
       "      <th>conspiracy</th>\n",
       "      <th>fake</th>\n",
       "      <th>hate</th>\n",
       "      <th>junksci</th>\n",
       "      <th>political</th>\n",
       "      <th>reliable</th>\n",
       "      <th>rumor</th>\n",
       "      <th>satire</th>\n",
       "      <th>state</th>\n",
       "      <th>unreliable</th>\n",
       "      <th>notes</th>\n",
       "    </tr>\n",
       "  </thead>\n",
       "  <tbody>\n",
       "    <tr>\n",
       "      <th>0</th>\n",
       "      <td>100percentfedup.com</td>\n",
       "      <td>1</td>\n",
       "      <td>0</td>\n",
       "      <td>0</td>\n",
       "      <td>0</td>\n",
       "      <td>0</td>\n",
       "      <td>0</td>\n",
       "      <td>0</td>\n",
       "      <td>0</td>\n",
       "      <td>0</td>\n",
       "      <td>0</td>\n",
       "      <td>0</td>\n",
       "      <td>0</td>\n",
       "      <td>NaN</td>\n",
       "    </tr>\n",
       "    <tr>\n",
       "      <th>1</th>\n",
       "      <td>16wmpo.com</td>\n",
       "      <td>0</td>\n",
       "      <td>0</td>\n",
       "      <td>0</td>\n",
       "      <td>1</td>\n",
       "      <td>0</td>\n",
       "      <td>0</td>\n",
       "      <td>0</td>\n",
       "      <td>0</td>\n",
       "      <td>0</td>\n",
       "      <td>0</td>\n",
       "      <td>0</td>\n",
       "      <td>0</td>\n",
       "      <td>http://www.politifact.com/punditfact/article/2...</td>\n",
       "    </tr>\n",
       "    <tr>\n",
       "      <th>2</th>\n",
       "      <td>21stcenturywire.com</td>\n",
       "      <td>0</td>\n",
       "      <td>0</td>\n",
       "      <td>1</td>\n",
       "      <td>0</td>\n",
       "      <td>0</td>\n",
       "      <td>0</td>\n",
       "      <td>0</td>\n",
       "      <td>0</td>\n",
       "      <td>0</td>\n",
       "      <td>0</td>\n",
       "      <td>0</td>\n",
       "      <td>0</td>\n",
       "      <td>NaN</td>\n",
       "    </tr>\n",
       "    <tr>\n",
       "      <th>3</th>\n",
       "      <td>24newsflash.com</td>\n",
       "      <td>0</td>\n",
       "      <td>0</td>\n",
       "      <td>0</td>\n",
       "      <td>1</td>\n",
       "      <td>0</td>\n",
       "      <td>0</td>\n",
       "      <td>0</td>\n",
       "      <td>0</td>\n",
       "      <td>0</td>\n",
       "      <td>0</td>\n",
       "      <td>0</td>\n",
       "      <td>0</td>\n",
       "      <td>NaN</td>\n",
       "    </tr>\n",
       "    <tr>\n",
       "      <th>4</th>\n",
       "      <td>24wpn.com</td>\n",
       "      <td>0</td>\n",
       "      <td>0</td>\n",
       "      <td>0</td>\n",
       "      <td>1</td>\n",
       "      <td>0</td>\n",
       "      <td>0</td>\n",
       "      <td>0</td>\n",
       "      <td>0</td>\n",
       "      <td>0</td>\n",
       "      <td>0</td>\n",
       "      <td>0</td>\n",
       "      <td>0</td>\n",
       "      <td>http://www.politifact.com/punditfact/article/2...</td>\n",
       "    </tr>\n",
       "  </tbody>\n",
       "</table>\n",
       "</div>"
      ],
      "text/plain": [
       "                domain  bias  clickbait  conspiracy  fake  hate  junksci  \\\n",
       "0  100percentfedup.com     1          0           0     0     0        0   \n",
       "1           16wmpo.com     0          0           0     1     0        0   \n",
       "2  21stcenturywire.com     0          0           1     0     0        0   \n",
       "3      24newsflash.com     0          0           0     1     0        0   \n",
       "4            24wpn.com     0          0           0     1     0        0   \n",
       "\n",
       "   political  reliable  rumor  satire  state  unreliable  \\\n",
       "0          0         0      0       0      0           0   \n",
       "1          0         0      0       0      0           0   \n",
       "2          0         0      0       0      0           0   \n",
       "3          0         0      0       0      0           0   \n",
       "4          0         0      0       0      0           0   \n",
       "\n",
       "                                               notes  \n",
       "0                                                NaN  \n",
       "1  http://www.politifact.com/punditfact/article/2...  \n",
       "2                                                NaN  \n",
       "3                                                NaN  \n",
       "4  http://www.politifact.com/punditfact/article/2...  "
      ]
     },
     "execution_count": 63,
     "metadata": {},
     "output_type": "execute_result"
    }
   ],
   "source": [
    "df_os['domain'] = df_os['domain'].apply(remove_www)\n",
    "df_os.head()"
   ]
  },
  {
   "cell_type": "code",
   "execution_count": 64,
   "metadata": {},
   "outputs": [
    {
     "data": {
      "text/html": [
       "<div>\n",
       "<table border=\"1\" class=\"dataframe\">\n",
       "  <thead>\n",
       "    <tr style=\"text-align: right;\">\n",
       "      <th></th>\n",
       "      <th>domain</th>\n",
       "      <th>bias</th>\n",
       "      <th>clickbait</th>\n",
       "      <th>conspiracy</th>\n",
       "      <th>fake</th>\n",
       "      <th>hate</th>\n",
       "      <th>junksci</th>\n",
       "      <th>political</th>\n",
       "      <th>reliable</th>\n",
       "      <th>rumor</th>\n",
       "      <th>satire</th>\n",
       "      <th>state</th>\n",
       "      <th>unreliable</th>\n",
       "      <th>notes</th>\n",
       "    </tr>\n",
       "  </thead>\n",
       "  <tbody>\n",
       "    <tr>\n",
       "      <th>384</th>\n",
       "      <td>infowars.com</td>\n",
       "      <td>0</td>\n",
       "      <td>0</td>\n",
       "      <td>1</td>\n",
       "      <td>0</td>\n",
       "      <td>0</td>\n",
       "      <td>0</td>\n",
       "      <td>0</td>\n",
       "      <td>0</td>\n",
       "      <td>0</td>\n",
       "      <td>0</td>\n",
       "      <td>0</td>\n",
       "      <td>0</td>\n",
       "      <td>NaN</td>\n",
       "    </tr>\n",
       "  </tbody>\n",
       "</table>\n",
       "</div>"
      ],
      "text/plain": [
       "           domain  bias  clickbait  conspiracy  fake  hate  junksci  \\\n",
       "384  infowars.com     0          0           1     0     0        0   \n",
       "\n",
       "     political  reliable  rumor  satire  state  unreliable notes  \n",
       "384          0         0      0       0      0           0   NaN  "
      ]
     },
     "execution_count": 64,
     "metadata": {},
     "output_type": "execute_result"
    }
   ],
   "source": [
    "# this is what infowars shows up as...\n",
    "df_os[df_os['domain'] == 'infowars.com']"
   ]
  },
  {
   "cell_type": "markdown",
   "metadata": {},
   "source": [
    "What is the breakdown of links shared from questionable sites?<br>\n",
    "We can join the opensources dataset into the link dataset to find out."
   ]
  },
  {
   "cell_type": "code",
   "execution_count": 65,
   "metadata": {
    "collapsed": true
   },
   "outputs": [],
   "source": [
    "df_questionable = pd.merge(left= df_merged, left_on= 'link.domain_resolved', \n",
    "                           right= df_os, right_on= 'domain', how= 'left')\n",
    "df_questionable['tweet.created_at'] = pd.to_datetime(df_questionable['tweet.created_at'])"
   ]
  },
  {
   "cell_type": "markdown",
   "metadata": {},
   "source": [
    "We can do some simple matrix math to see the breakdown of quesitonable links"
   ]
  },
  {
   "cell_type": "code",
   "execution_count": 101,
   "metadata": {},
   "outputs": [
    {
     "data": {
      "text/plain": [
       "bias          2797.0\n",
       "political     1702.0\n",
       "unreliable    1676.0\n",
       "clickbait     1040.0\n",
       "conspiracy    1017.0\n",
       "hate           382.0\n",
       "fake           281.0\n",
       "state          205.0\n",
       "rumor           50.0\n",
       "junksci         33.0\n",
       "satire          24.0\n",
       "reliable        22.0\n",
       "dtype: float64"
      ]
     },
     "execution_count": 101,
     "metadata": {},
     "output_type": "execute_result"
    }
   ],
   "source": [
    "# these are the columns we'll base out calculations on.\n",
    "media_classes = [c for c in df_os.columns if c not in ['domain', 'notes']]\n",
    "breakdown = df_questionable[media_classes].sum(axis=0)\n",
    "breakdown.sort_values(ascending=False)"
   ]
  },
  {
   "cell_type": "code",
   "execution_count": 102,
   "metadata": {},
   "outputs": [
    {
     "data": {
      "image/png": "[encoded data removed]",
      "text/plain": [
       "<matplotlib.figure.Figure at 0x12654df28>"
      ]
     },
     "metadata": {},
     "output_type": "display_data"
    }
   ],
   "source": [
    "# # we'll filter out the non-represented classes, sort them, and plot it!\n",
    "breakdown[breakdown != 0].sort_values().plot(\n",
    "    kind='bar', title='Russian Trolls Number of Links per Topic'\n",
    ");"
   ]
  },
  {
   "cell_type": "markdown",
   "metadata": {},
   "source": [
    "We can see the websites and their influence in those fields."
   ]
  },
  {
   "cell_type": "code",
   "execution_count": 116,
   "metadata": {},
   "outputs": [
    {
     "data": {
      "text/plain": [
       "breitbart.com              0.247050\n",
       "dailycaller.com            0.111906\n",
       "truthfeed.com              0.088309\n",
       "thegatewaypundit.com       0.085449\n",
       "americanthinker.com        0.046478\n",
       "libertywritersnews.com     0.039328\n",
       "freebeacon.com             0.035395\n",
       "conservativetribune.com    0.021452\n",
       "frontpagemag.com           0.018591\n",
       "therealstrategy.com        0.016804\n",
       "westernjournalism.com      0.015016\n",
       "newsninja2012.com          0.014659\n",
       "truepundit.com             0.013586\n",
       "newsmax.com                0.011441\n",
       "ijr.com                    0.010726\n",
       "conservativebyte.com       0.010368\n",
       "weaselzippers.us           0.009653\n",
       "lifenews.com               0.008938\n",
       "pjmedia.com                0.008581\n",
       "redflagnews.com            0.007866\n",
       "endingthefed.com           0.007508\n",
       "dailywire.com              0.006793\n",
       "bb4sp.com                  0.006078\n",
       "shareblue.com              0.006078\n",
       "bipartisanreport.com       0.005720\n",
       "Name: link.domain_resolved, dtype: float64"
      ]
     },
     "execution_count": 116,
     "metadata": {},
     "output_type": "execute_result"
    }
   ],
   "source": [
    "df_questionable[df_questionable['bias'] == 1]['link.domain_resolved'].value_counts(25).head(25)"
   ]
  },
  {
   "cell_type": "code",
   "execution_count": 118,
   "metadata": {},
   "outputs": [
    {
     "data": {
      "text/plain": [
       "breitbart.com             0.405993\n",
       "dailycaller.com           0.183901\n",
       "washingtonexaminer.com    0.079906\n",
       "rawstory.com              0.058754\n",
       "nationalreview.com        0.027027\n",
       "observer.com              0.026439\n",
       "redstate.com              0.026439\n",
       "conservativereview.com    0.019976\n",
       "ijr.com                   0.017626\n",
       "thedailybeast.com         0.017039\n",
       "thinkprogress.org         0.014101\n",
       "pjmedia.com               0.014101\n",
       "theblaze.com              0.013514\n",
       "theintercept.com          0.013514\n",
       "counterpunch.org          0.010576\n",
       "shareblue.com             0.009988\n",
       "dailykos.com              0.008226\n",
       "judicialwatch.org         0.008226\n",
       "proudemocrat.com          0.007051\n",
       "dennismichaellynch.com    0.007051\n",
       "fusion.net                0.005875\n",
       "weeklystandard.com        0.005288\n",
       "alternet.org              0.005288\n",
       "mintpressnews.com         0.002350\n",
       "commondreams.org          0.002350\n",
       "Name: link.domain_resolved, dtype: float64"
      ]
     },
     "execution_count": 118,
     "metadata": {},
     "output_type": "execute_result"
    }
   ],
   "source": [
    "df_questionable[df_questionable['political'] == 1]['link.domain_resolved'].value_counts(25).head(25)"
   ]
  },
  {
   "cell_type": "code",
   "execution_count": 119,
   "metadata": {},
   "outputs": [
    {
     "data": {
      "text/plain": [
       "breitbart.com              0.412291\n",
       "thegatewaypundit.com       0.142601\n",
       "washingtonexaminer.com     0.081146\n",
       "libertywritersnews.com     0.065632\n",
       "wikileaks.org              0.050119\n",
       "conservativetribune.com    0.035800\n",
       "politicususa.com           0.026253\n",
       "newsmax.com                0.019093\n",
       "ijr.com                    0.017900\n",
       "weaselzippers.us           0.016110\n",
       "redflagnews.com            0.013126\n",
       "teaparty.org               0.010143\n",
       "shareblue.com              0.010143\n",
       "cnsnews.com                0.008950\n",
       "thepoliticalinsider.com    0.008353\n",
       "occupydemocrats.com        0.007757\n",
       "wnd.com                    0.007757\n",
       "youngcons.com              0.007757\n",
       "theantimedia.org           0.005967\n",
       "madworldnews.com           0.005370\n",
       "usuncut.com                0.005370\n",
       "anonews.co                 0.004177\n",
       "rightwingnews.com          0.003580\n",
       "guccifer2.wordpress.com    0.002983\n",
       "breaking911.com            0.002983\n",
       "Name: link.domain_resolved, dtype: float64"
      ]
     },
     "execution_count": 119,
     "metadata": {},
     "output_type": "execute_result"
    }
   ],
   "source": [
    "df_questionable[df_questionable['unreliable'] == 1]['link.domain_resolved'].value_counts(25).head(25)"
   ]
  },
  {
   "cell_type": "code",
   "execution_count": 120,
   "metadata": {},
   "outputs": [
    {
     "data": {
      "text/plain": [
       "dailycaller.com               0.300962\n",
       "libertywritersnews.com        0.105769\n",
       "rawstory.com                  0.096154\n",
       "lifezette.com                 0.054808\n",
       "redstate.com                  0.043269\n",
       "politicususa.com              0.042308\n",
       "westernjournalism.com         0.040385\n",
       "truepundit.com                0.036538\n",
       "twitchy.com                   0.031731\n",
       "lifenews.com                  0.024038\n",
       "theblaze.com                  0.022115\n",
       "yournewswire.com              0.017308\n",
       "bipartisanreport.com          0.015385\n",
       "therightscoop.com             0.014423\n",
       "dailykos.com                  0.013462\n",
       "wnd.com                       0.012500\n",
       "occupydemocrats.com           0.012500\n",
       "americanlookout.com           0.010577\n",
       "ilovemyfreedom.org            0.009615\n",
       "usuncut.com                   0.008654\n",
       "madworldnews.com              0.008654\n",
       "redstatewatcher.com           0.007692\n",
       "dailynewsbin.com              0.006731\n",
       "conservativefiringline.com    0.006731\n",
       "heatst.com                    0.005769\n",
       "Name: link.domain_resolved, dtype: float64"
      ]
     },
     "execution_count": 120,
     "metadata": {},
     "output_type": "execute_result"
    }
   ],
   "source": [
    "df_questionable[df_questionable['clickbait'] == 1]['link.domain_resolved'].value_counts(25).head(25)"
   ]
  },
  {
   "cell_type": "code",
   "execution_count": 121,
   "metadata": {},
   "outputs": [
    {
     "data": {
      "text/plain": [
       "truthfeed.com                  0.242871\n",
       "thegatewaypundit.com           0.235005\n",
       "infowars.com                   0.126844\n",
       "conservativetribune.com        0.058997\n",
       "therealstrategy.com            0.046214\n",
       "zerohedge.com                  0.044248\n",
       "rickwells.us                   0.035398\n",
       "redflagnews.com                0.021632\n",
       "bb4sp.com                      0.016716\n",
       "thepoliticalinsider.com        0.013766\n",
       "freedomoutpost.com             0.012783\n",
       "angrypatriotmovement.com       0.012783\n",
       "theantimedia.org               0.009833\n",
       "thefederalistpapers.org        0.009833\n",
       "jihadwatch.org                 0.006883\n",
       "canadafreepress.com            0.006883\n",
       "conservativefiringline.com     0.006883\n",
       "govtslaves.info                0.005900\n",
       "usherald.com                   0.005900\n",
       "centerforsecuritypolicy.org    0.005900\n",
       "clashdaily.com                 0.005900\n",
       "gopthedailydose.com            0.004916\n",
       "wearechange.org                0.004916\n",
       "globalresearch.ca              0.004916\n",
       "dcclothesline.com              0.004916\n",
       "Name: link.domain_resolved, dtype: float64"
      ]
     },
     "execution_count": 121,
     "metadata": {},
     "output_type": "execute_result"
    }
   ],
   "source": [
    "df_questionable[df_questionable['conspiracy'] == 1]['link.domain_resolved'].value_counts(25).head(25)"
   ]
  },
  {
   "cell_type": "markdown",
   "metadata": {},
   "source": [
    "# Temporal Analysis Of Misinfomation Sites\n",
    "Were links from these misinfomration hubs shared at stetegic times?"
   ]
  },
  {
   "cell_type": "code",
   "execution_count": 74,
   "metadata": {
    "collapsed": true
   },
   "outputs": [],
   "source": [
    "dat1 = (df_questionable[(df_questionable['domain'].isnull()) \n",
    "                      & (df_questionable['tweet.created_at'] >= datetime.datetime(2016,6,1) )]\n",
    " ['tweet.created_at'].dt.date.value_counts()\n",
    ").reset_index()\n",
    "\n",
    "dat2 = (df_questionable[ (~df_questionable['domain'].isnull()) \n",
    "                       & (df_questionable['tweet.created_at'] >= datetime.datetime(2016,6,1) )]\n",
    " ['tweet.created_at'].dt.date.value_counts()).reset_index()\n",
    "\n",
    "dat1.sort_values(by='index', inplace=True)\n",
    "dat2.sort_values(by='index', inplace=True)\n",
    "\n",
    "merge = dat1.merge(dat2, on='index', how='outer')\n",
    "\n",
    "def ratio(row):\n",
    "    return row['tweet.created_at_y'] / row['tweet.created_at_x'] \n",
    "\n",
    "merge['ratio'] = merge.apply(ratio, axis=1)"
   ]
  },
  {
   "cell_type": "code",
   "execution_count": 75,
   "metadata": {
    "collapsed": true
   },
   "outputs": [],
   "source": [
    "merge['index'] = pd.to_datetime(merge['index'])\n",
    "merge_ = merge[(~merge['ratio'].isnull()) & \n",
    "               (merge['index'] >= datetime.datetime(2016,7,17))]"
   ]
  },
  {
   "cell_type": "code",
   "execution_count": 76,
   "metadata": {},
   "outputs": [
    {
     "data": {
      "image/png": "[encoded data removed]",
      "text/plain": [
       "<matplotlib.figure.Figure at 0x128e9a518>"
      ]
     },
     "metadata": {},
     "output_type": "display_data"
    }
   ],
   "source": [
    "ax = merge_.plot(x='index', y='ratio', legend=False, \n",
    "                 title='Ratio of Questionable Links Shared by Russian Trolls',\n",
    "                 figsize=(16,6))\n",
    "ax.xaxis.label.set_visible(False)\n",
    "fig = ax.get_figure();"
   ]
  },
  {
   "cell_type": "markdown",
   "metadata": {},
   "source": [
    "This plot may not be as infomrative as we like, as the data collection methods were not disclosed. For that reason we shouldn't assume any full-ness amongst the Tweets we have."
   ]
  },
  {
   "cell_type": "code",
   "execution_count": 109,
   "metadata": {},
   "outputs": [
    {
     "data": {
      "image/png": "[encoded data removed]",
      "text/plain": [
       "<matplotlib.figure.Figure at 0x123ebae10>"
      ]
     },
     "metadata": {},
     "output_type": "display_data"
    }
   ],
   "source": [
    "x1, y1 = dat1['index'], dat1['tweet.created_at']\n",
    "x2, y2 = dat2['index'], dat2['tweet.created_at']\n",
    "\n",
    "fig = plt.figure(figsize=(16,6))\n",
    "ax1 = fig.add_subplot(111)\n",
    "ax1.plot(x1, y1, '--')\n",
    "ax1.set_ylabel('Non-Suspicious Links Shared', color='C0')\n",
    "\n",
    "ax2 = ax1.twinx()\n",
    "ax2.plot(x2, y2, color='k')\n",
    "ax2.set_ylabel('Links Shared from Misinformational Sites')\n",
    "for tl in ax1.get_yticklabels():\n",
    "    tl.set_color('C0')\n",
    "ax1.set_yscale('log')\n",
    "ax2.set_yscale('log')\n",
    "\n",
    "plt.title(\"Links Shared by Russian Trolls\");"
   ]
  },
  {
   "cell_type": "markdown",
   "metadata": {},
   "source": [
    "Here we can try to identify spikes in sharing of misinformation (black).<br>\n",
    "We see spikes in late July (2016-07-29), Mid-September (2016-09-16 to 18), and early-October (2016-10-06 to 07)."
   ]
  },
  {
   "cell_type": "code",
   "execution_count": 130,
   "metadata": {},
   "outputs": [
    {
     "data": {
      "text/html": [
       "<div>\n",
       "<table border=\"1\" class=\"dataframe\">\n",
       "  <thead>\n",
       "    <tr style=\"text-align: right;\">\n",
       "      <th></th>\n",
       "      <th>index</th>\n",
       "      <th>tweet.created_at</th>\n",
       "    </tr>\n",
       "  </thead>\n",
       "  <tbody>\n",
       "    <tr>\n",
       "      <th>0</th>\n",
       "      <td>2016-09-17</td>\n",
       "      <td>470</td>\n",
       "    </tr>\n",
       "    <tr>\n",
       "      <th>1</th>\n",
       "      <td>2016-10-06</td>\n",
       "      <td>306</td>\n",
       "    </tr>\n",
       "    <tr>\n",
       "      <th>2</th>\n",
       "      <td>2016-09-18</td>\n",
       "      <td>278</td>\n",
       "    </tr>\n",
       "    <tr>\n",
       "      <th>3</th>\n",
       "      <td>2016-09-16</td>\n",
       "      <td>251</td>\n",
       "    </tr>\n",
       "    <tr>\n",
       "      <th>4</th>\n",
       "      <td>2016-09-19</td>\n",
       "      <td>221</td>\n",
       "    </tr>\n",
       "    <tr>\n",
       "      <th>5</th>\n",
       "      <td>2016-10-07</td>\n",
       "      <td>159</td>\n",
       "    </tr>\n",
       "    <tr>\n",
       "      <th>6</th>\n",
       "      <td>2016-09-29</td>\n",
       "      <td>117</td>\n",
       "    </tr>\n",
       "    <tr>\n",
       "      <th>7</th>\n",
       "      <td>2016-07-29</td>\n",
       "      <td>110</td>\n",
       "    </tr>\n",
       "    <tr>\n",
       "      <th>8</th>\n",
       "      <td>2016-09-23</td>\n",
       "      <td>102</td>\n",
       "    </tr>\n",
       "    <tr>\n",
       "      <th>9</th>\n",
       "      <td>2016-09-12</td>\n",
       "      <td>67</td>\n",
       "    </tr>\n",
       "  </tbody>\n",
       "</table>\n",
       "</div>"
      ],
      "text/plain": [
       "        index  tweet.created_at\n",
       "0  2016-09-17               470\n",
       "1  2016-10-06               306\n",
       "2  2016-09-18               278\n",
       "3  2016-09-16               251\n",
       "4  2016-09-19               221\n",
       "5  2016-10-07               159\n",
       "6  2016-09-29               117\n",
       "7  2016-07-29               110\n",
       "8  2016-09-23               102\n",
       "9  2016-09-12                67"
      ]
     },
     "execution_count": 130,
     "metadata": {},
     "output_type": "execute_result"
    }
   ],
   "source": [
    "dat2.sort_values(by='tweet.created_at', ascending=False).head(10)"
   ]
  },
  {
   "cell_type": "markdown",
   "metadata": {},
   "source": [
    "We can calculate the correlation between the seemingly innoculous links and mininformation links using the Spearman coefficient."
   ]
  },
  {
   "cell_type": "code",
   "execution_count": 108,
   "metadata": {},
   "outputs": [
    {
     "data": {
      "text/plain": [
       "SpearmanrResult(correlation=0.5935672824488576, pvalue=3.724636041569835e-13)"
      ]
     },
     "execution_count": 108,
     "metadata": {},
     "output_type": "execute_result"
    }
   ],
   "source": [
    "spearmanr(merge_['tweet.created_at_x'], \n",
    "          merge_['tweet.created_at_y'])"
   ]
  },
  {
   "cell_type": "markdown",
   "metadata": {},
   "source": [
    "## Clustering Users and Dimensionality Reduction\n",
    "We can use types of misinformation favored by each Troll account to cluster similar users.<br>\n",
    "For each user we will calculate the proportion of each type of misinformation shared, and reduce the values from the the classes of misinformation into two dimensions for visualization."
   ]
  },
  {
   "cell_type": "code",
   "execution_count": 73,
   "metadata": {
    "collapsed": true
   },
   "outputs": [],
   "source": [
    "def normalize(row):\n",
    "    return row / row.sum()"
   ]
  },
  {
   "cell_type": "markdown",
   "metadata": {},
   "source": [
    "Here we will aggregate our link data by user, and count the number of links shared for each class of misinformation (`media_classes`), then `normalize` these values between 0-1."
   ]
  },
  {
   "cell_type": "code",
   "execution_count": 103,
   "metadata": {},
   "outputs": [],
   "source": [
    "one_hot_domains_questionable = df_questionable.groupby('user.id')[media_classes].sum().fillna(0)\n",
    "one_hot_domains_questionable = one_hot_domains_questionable.apply(normalize, axis=1).fillna(0)"
   ]
  },
  {
   "cell_type": "markdown",
   "metadata": {},
   "source": [
    "We use T-SNE for dimensionality reduction. Although we should be weary that we have a tiny dataset, this can still give us a good ball-park for user similarity."
   ]
  },
  {
   "cell_type": "code",
   "execution_count": 104,
   "metadata": {},
   "outputs": [
    {
     "name": "stdout",
     "output_type": "stream",
     "text": [
      "[t-SNE] Computing 91 nearest neighbors...\n",
      "[t-SNE] Indexed 334 samples in 0.000s...\n",
      "[t-SNE] Computed neighbors for 334 samples in 0.006s...\n",
      "[t-SNE] Computed conditional probabilities for sample 334 / 334\n",
      "[t-SNE] Mean sigma: 0.000000\n",
      "[t-SNE] Computed conditional probabilities in 0.024s\n",
      "[t-SNE] Iteration 50: error = 51.9312897, gradient norm = 0.5711685 (50 iterations in 0.431s)\n",
      "[t-SNE] Iteration 100: error = 49.8780174, gradient norm = 0.5977964 (50 iterations in 0.447s)\n",
      "[t-SNE] Iteration 150: error = 50.6728859, gradient norm = 0.5891107 (50 iterations in 0.416s)\n",
      "[t-SNE] Iteration 200: error = 50.9719925, gradient norm = 0.5903067 (50 iterations in 0.447s)\n",
      "[t-SNE] Iteration 250: error = 50.3423920, gradient norm = 0.5731412 (50 iterations in 0.428s)\n",
      "[t-SNE] KL divergence after 250 iterations with early exaggeration: 50.342392\n",
      "[t-SNE] Iteration 300: error = 0.3383198, gradient norm = 0.0026085 (50 iterations in 0.385s)\n",
      "[t-SNE] Iteration 350: error = 0.3191045, gradient norm = 0.0003634 (50 iterations in 0.375s)\n",
      "[t-SNE] Iteration 400: error = 0.3147642, gradient norm = 0.0001913 (50 iterations in 0.354s)\n",
      "[t-SNE] Iteration 450: error = 0.3136373, gradient norm = 0.0001724 (50 iterations in 0.370s)\n",
      "[t-SNE] Iteration 500: error = 0.3132615, gradient norm = 0.0001433 (50 iterations in 0.322s)\n",
      "[t-SNE] Iteration 550: error = 0.3123814, gradient norm = 0.0001552 (50 iterations in 0.328s)\n",
      "[t-SNE] Iteration 600: error = 0.3111922, gradient norm = 0.0001769 (50 iterations in 0.325s)\n",
      "[t-SNE] Iteration 650: error = 0.3104817, gradient norm = 0.0001543 (50 iterations in 0.322s)\n",
      "[t-SNE] Iteration 700: error = 0.3087052, gradient norm = 0.0001920 (50 iterations in 0.326s)\n",
      "[t-SNE] Iteration 750: error = 0.3069621, gradient norm = 0.0001748 (50 iterations in 0.328s)\n",
      "[t-SNE] Iteration 800: error = 0.3043820, gradient norm = 0.0001779 (50 iterations in 0.353s)\n",
      "[t-SNE] Iteration 850: error = 0.3028622, gradient norm = 0.0001495 (50 iterations in 0.344s)\n",
      "[t-SNE] Iteration 900: error = 0.3029180, gradient norm = 0.0001562 (50 iterations in 0.346s)\n",
      "[t-SNE] Iteration 950: error = 0.2932091, gradient norm = 0.0001917 (50 iterations in 0.342s)\n",
      "[t-SNE] Iteration 1000: error = 0.2932623, gradient norm = 0.0001420 (50 iterations in 0.331s)\n",
      "[t-SNE] Error after 1000 iterations: 0.293262\n"
     ]
    }
   ],
   "source": [
    "tsne = TSNE(n_components=2, learning_rate=150, verbose=2).fit_transform(one_hot_domains_questionable)"
   ]
  },
  {
   "cell_type": "markdown",
   "metadata": {},
   "source": [
    "We can then normalize these reduced values, and plot them as a scatterplot."
   ]
  },
  {
   "cell_type": "code",
   "execution_count": 105,
   "metadata": {
    "collapsed": true
   },
   "outputs": [],
   "source": [
    "tx, ty = tsne[:,0], tsne[:,1]\n",
    "tx = (tx-np.min(tx)) / (np.max(tx) - np.min(tx))\n",
    "ty = (ty-np.min(ty)) / (np.max(ty) - np.min(ty))"
   ]
  },
  {
   "cell_type": "code",
   "execution_count": 107,
   "metadata": {},
   "outputs": [
    {
     "data": {
      "image/png": "[encoded data removed]",
      "text/plain": [
       "<matplotlib.figure.Figure at 0x1239d4b00>"
      ]
     },
     "metadata": {},
     "output_type": "display_data"
    }
   ],
   "source": [
    "pd.DataFrame(list(zip(tx,ty))).plot.scatter(\n",
    "    x=0, y=1, alpha=.4);"
   ]
  },
  {
   "cell_type": "markdown",
   "metadata": {},
   "source": [
    "## Local News\n",
    "In addition to using categories of misinformation as features, we can also label domains as local news using the USNPL dataset, which has been <a href=\"https://nbviewer.jupyter.org/github/yinleon/usnpl/blob/master/scrape_usnpl.ipynb\">scraped and documented</a>."
   ]
  },
  {
   "cell_type": "code",
   "execution_count": 79,
   "metadata": {},
   "outputs": [
    {
     "data": {
      "text/plain": [
       "6221"
      ]
     },
     "execution_count": 79,
     "metadata": {},
     "output_type": "execute_result"
    }
   ],
   "source": [
    "usnpl_clean_url = 'https://raw.githubusercontent.com/yinleon/usnpl/master/data/usnpl_newspapers_twitter_ids.csv'\n",
    "df_usnpl = pd.read_csv(usnpl_clean_url)\n",
    "len(df_usnpl)"
   ]
  },
  {
   "cell_type": "code",
   "execution_count": 80,
   "metadata": {
    "collapsed": true
   },
   "outputs": [],
   "source": [
    "df_usnpl['Website'] = df_usnpl['Website'].apply(remove_www)\n",
    "df_usnpl_one_hot = pd.get_dummies(df_usnpl[['Website', 'Medium']], columns=['Medium'])"
   ]
  },
  {
   "cell_type": "code",
   "execution_count": 81,
   "metadata": {
    "collapsed": true
   },
   "outputs": [],
   "source": [
    "remap = {\n",
    "    'Website' : 'domain',\n",
    "    'Medium' : 'state_level_media',\n",
    "    'Geography' : 'state'\n",
    "}\n",
    "\n",
    "remap_vals = {\n",
    "    'Newspapers' : 'newspaper',\n",
    "    'College Newspapers' : 'college_newspaper',\n",
    "    'Magazines' : 'magazine'\n",
    "}"
   ]
  },
  {
   "cell_type": "code",
   "execution_count": 82,
   "metadata": {
    "collapsed": true
   },
   "outputs": [],
   "source": [
    "df_usnpl.columns = [remap.get(c,c) for c in df_usnpl.columns]"
   ]
  },
  {
   "cell_type": "code",
   "execution_count": 83,
   "metadata": {
    "collapsed": true
   },
   "outputs": [],
   "source": [
    "df_usnpl['state_level_media'] = df_usnpl['state_level_media'].replace(remap_vals)"
   ]
  },
  {
   "cell_type": "code",
   "execution_count": 84,
   "metadata": {
    "collapsed": true,
    "scrolled": true
   },
   "outputs": [],
   "source": [
    "df_usnpl_one_hot = pd.get_dummies(df_usnpl[['domain', 'state_level_media']], columns=['state_level_media'])"
   ]
  },
  {
   "cell_type": "code",
   "execution_count": 85,
   "metadata": {
    "collapsed": true
   },
   "outputs": [],
   "source": [
    "df_questionable_2 = pd.merge(left= df_questionable, left_on= 'link.domain_resolved', \n",
    "                             right= df_usnpl_one_hot, right_on= 'domain', how= 'left')"
   ]
  },
  {
   "cell_type": "code",
   "execution_count": 86,
   "metadata": {},
   "outputs": [
    {
     "data": {
      "text/html": [
       "<div>\n",
       "<table border=\"1\" class=\"dataframe\">\n",
       "  <thead>\n",
       "    <tr style=\"text-align: right;\">\n",
       "      <th></th>\n",
       "      <th>link.domain</th>\n",
       "      <th>link.url_long</th>\n",
       "      <th>tweet.created_at</th>\n",
       "      <th>tweet.id</th>\n",
       "      <th>tweet.text</th>\n",
       "      <th>user.id</th>\n",
       "      <th>link.domain_resolved</th>\n",
       "      <th>link.url_long_resolved</th>\n",
       "      <th>domain_x</th>\n",
       "      <th>bias</th>\n",
       "      <th>...</th>\n",
       "      <th>reliable</th>\n",
       "      <th>rumor</th>\n",
       "      <th>satire</th>\n",
       "      <th>state</th>\n",
       "      <th>unreliable</th>\n",
       "      <th>notes</th>\n",
       "      <th>domain_y</th>\n",
       "      <th>state_level_media_college_newspaper</th>\n",
       "      <th>state_level_media_magazine</th>\n",
       "      <th>state_level_media_newspaper</th>\n",
       "    </tr>\n",
       "  </thead>\n",
       "  <tbody>\n",
       "    <tr>\n",
       "      <th>0</th>\n",
       "      <td>ln.is</td>\n",
       "      <td>http://ln.is/twitchy.com/loriz-31/3yafU</td>\n",
       "      <td>2016-09-18 19:46:25</td>\n",
       "      <td>777594647875059712</td>\n",
       "      <td>RT @NahBabyNah: Twitchy: Chuck Todd caught out...</td>\n",
       "      <td>1694026190</td>\n",
       "      <td>twitchy.com</td>\n",
       "      <td>http://twitchy.com/loriz-31/3yafU</td>\n",
       "      <td>twitchy.com</td>\n",
       "      <td>0.0</td>\n",
       "      <td>...</td>\n",
       "      <td>0.0</td>\n",
       "      <td>1.0</td>\n",
       "      <td>0.0</td>\n",
       "      <td>0.0</td>\n",
       "      <td>0.0</td>\n",
       "      <td>NaN</td>\n",
       "      <td>NaN</td>\n",
       "      <td>NaN</td>\n",
       "      <td>NaN</td>\n",
       "      <td>NaN</td>\n",
       "    </tr>\n",
       "    <tr>\n",
       "      <th>1</th>\n",
       "      <td>freedomoutpost.com</td>\n",
       "      <td>http://freedomoutpost.com/2013/02/the-use-of-r...</td>\n",
       "      <td>2016-09-19 13:20:08</td>\n",
       "      <td>777859822679158784</td>\n",
       "      <td>RT @leonpui_: Hillary Clinton, Obama and the D...</td>\n",
       "      <td>1649967228</td>\n",
       "      <td>freedomoutpost.com</td>\n",
       "      <td>http://freedomoutpost.com/2013/02/the-use-of-r...</td>\n",
       "      <td>freedomoutpost.com</td>\n",
       "      <td>1.0</td>\n",
       "      <td>...</td>\n",
       "      <td>0.0</td>\n",
       "      <td>0.0</td>\n",
       "      <td>0.0</td>\n",
       "      <td>0.0</td>\n",
       "      <td>0.0</td>\n",
       "      <td>NaN</td>\n",
       "      <td>NaN</td>\n",
       "      <td>NaN</td>\n",
       "      <td>NaN</td>\n",
       "      <td>NaN</td>\n",
       "    </tr>\n",
       "    <tr>\n",
       "      <th>2</th>\n",
       "      <td>www.informationliberation.com</td>\n",
       "      <td>http://www.informationliberation.com/?id=55568</td>\n",
       "      <td>2016-09-30 23:29:54</td>\n",
       "      <td>781999544502521857</td>\n",
       "      <td>RT @PrisonPlanet: Hillary's anti-Trump poster ...</td>\n",
       "      <td>2606301939</td>\n",
       "      <td>informationliberation.com</td>\n",
       "      <td>http://www.informationliberation.com/?id=55568</td>\n",
       "      <td>NaN</td>\n",
       "      <td>NaN</td>\n",
       "      <td>...</td>\n",
       "      <td>NaN</td>\n",
       "      <td>NaN</td>\n",
       "      <td>NaN</td>\n",
       "      <td>NaN</td>\n",
       "      <td>NaN</td>\n",
       "      <td>NaN</td>\n",
       "      <td>NaN</td>\n",
       "      <td>NaN</td>\n",
       "      <td>NaN</td>\n",
       "      <td>NaN</td>\n",
       "    </tr>\n",
       "  </tbody>\n",
       "</table>\n",
       "<p>3 rows × 26 columns</p>\n",
       "</div>"
      ],
      "text/plain": [
       "                     link.domain  \\\n",
       "0                          ln.is   \n",
       "1             freedomoutpost.com   \n",
       "2  www.informationliberation.com   \n",
       "\n",
       "                                       link.url_long    tweet.created_at  \\\n",
       "0            http://ln.is/twitchy.com/loriz-31/3yafU 2016-09-18 19:46:25   \n",
       "1  http://freedomoutpost.com/2013/02/the-use-of-r... 2016-09-19 13:20:08   \n",
       "2     http://www.informationliberation.com/?id=55568 2016-09-30 23:29:54   \n",
       "\n",
       "             tweet.id                                         tweet.text  \\\n",
       "0  777594647875059712  RT @NahBabyNah: Twitchy: Chuck Todd caught out...   \n",
       "1  777859822679158784  RT @leonpui_: Hillary Clinton, Obama and the D...   \n",
       "2  781999544502521857  RT @PrisonPlanet: Hillary's anti-Trump poster ...   \n",
       "\n",
       "      user.id       link.domain_resolved  \\\n",
       "0  1694026190                twitchy.com   \n",
       "1  1649967228         freedomoutpost.com   \n",
       "2  2606301939  informationliberation.com   \n",
       "\n",
       "                              link.url_long_resolved            domain_x  \\\n",
       "0                  http://twitchy.com/loriz-31/3yafU         twitchy.com   \n",
       "1  http://freedomoutpost.com/2013/02/the-use-of-r...  freedomoutpost.com   \n",
       "2     http://www.informationliberation.com/?id=55568                 NaN   \n",
       "\n",
       "   bias             ...               reliable  rumor  satire  state  \\\n",
       "0   0.0             ...                    0.0    1.0     0.0    0.0   \n",
       "1   1.0             ...                    0.0    0.0     0.0    0.0   \n",
       "2   NaN             ...                    NaN    NaN     NaN    NaN   \n",
       "\n",
       "   unreliable  notes  domain_y  state_level_media_college_newspaper  \\\n",
       "0         0.0    NaN       NaN                                  NaN   \n",
       "1         0.0    NaN       NaN                                  NaN   \n",
       "2         NaN    NaN       NaN                                  NaN   \n",
       "\n",
       "   state_level_media_magazine  state_level_media_newspaper  \n",
       "0                         NaN                          NaN  \n",
       "1                         NaN                          NaN  \n",
       "2                         NaN                          NaN  \n",
       "\n",
       "[3 rows x 26 columns]"
      ]
     },
     "execution_count": 86,
     "metadata": {},
     "output_type": "execute_result"
    }
   ],
   "source": [
    "df_questionable_2.head(3)"
   ]
  },
  {
   "cell_type": "code",
   "execution_count": 87,
   "metadata": {},
   "outputs": [
    {
     "data": {
      "text/plain": [
       "state_level_media_newspaper            3125.0\n",
       "bias                                   2797.0\n",
       "political                              1702.0\n",
       "unreliable                             1676.0\n",
       "clickbait                              1040.0\n",
       "conspiracy                             1017.0\n",
       "hate                                    382.0\n",
       "fake                                    281.0\n",
       "state                                   205.0\n",
       "rumor                                    50.0\n",
       "state_level_media_magazine               34.0\n",
       "junksci                                  33.0\n",
       "satire                                   24.0\n",
       "reliable                                 22.0\n",
       "state_level_media_college_newspaper       1.0\n",
       "dtype: float64"
      ]
     },
     "execution_count": 87,
     "metadata": {},
     "output_type": "execute_result"
    }
   ],
   "source": [
    "cols = df_os.columns.tolist() + df_usnpl_one_hot.columns.tolist()\n",
    "media_classes = [c for c in cols if c not in ['domain', 'notes']]\n",
    "breakdown = df_questionable_2[media_classes].sum(axis=0)\n",
    "breakdown.sort_values(ascending=False)"
   ]
  },
  {
   "cell_type": "code",
   "execution_count": 90,
   "metadata": {},
   "outputs": [
    {
     "name": "stdout",
     "output_type": "stream",
     "text": [
      "[t-SNE] Computing 91 nearest neighbors...\n",
      "[t-SNE] Indexed 334 samples in 0.006s...\n",
      "[t-SNE] Computed neighbors for 334 samples in 0.008s...\n",
      "[t-SNE] Computed conditional probabilities for sample 334 / 334\n",
      "[t-SNE] Mean sigma: 0.000000\n",
      "[t-SNE] Computed conditional probabilities in 0.025s\n",
      "[t-SNE] Iteration 50: error = 51.3555794, gradient norm = 0.5776203 (50 iterations in 0.722s)\n",
      "[t-SNE] Iteration 100: error = 50.1537361, gradient norm = 0.5854487 (50 iterations in 0.348s)\n",
      "[t-SNE] Iteration 150: error = 49.4357681, gradient norm = 0.5965114 (50 iterations in 0.321s)\n",
      "[t-SNE] Iteration 200: error = 49.1035690, gradient norm = 0.5555739 (50 iterations in 0.372s)\n",
      "[t-SNE] Iteration 250: error = 48.9232483, gradient norm = 0.5693035 (50 iterations in 0.344s)\n",
      "[t-SNE] KL divergence after 250 iterations with early exaggeration: 48.923248\n",
      "[t-SNE] Iteration 300: error = 0.3240951, gradient norm = 0.0018050 (50 iterations in 0.312s)\n",
      "[t-SNE] Iteration 350: error = 0.3106754, gradient norm = 0.0004510 (50 iterations in 0.321s)\n",
      "[t-SNE] Iteration 400: error = 0.3066488, gradient norm = 0.0003190 (50 iterations in 0.293s)\n",
      "[t-SNE] Iteration 450: error = 0.3047322, gradient norm = 0.0003002 (50 iterations in 0.304s)\n",
      "[t-SNE] Iteration 500: error = 0.3040148, gradient norm = 0.0002710 (50 iterations in 0.289s)\n",
      "[t-SNE] Iteration 550: error = 0.3033430, gradient norm = 0.0002012 (50 iterations in 0.284s)\n",
      "[t-SNE] Iteration 600: error = 0.3027089, gradient norm = 0.0002030 (50 iterations in 0.306s)\n",
      "[t-SNE] Iteration 650: error = 0.3020678, gradient norm = 0.0002625 (50 iterations in 0.285s)\n",
      "[t-SNE] Iteration 700: error = 0.3016058, gradient norm = 0.0001681 (50 iterations in 0.293s)\n",
      "[t-SNE] Iteration 750: error = 0.3016416, gradient norm = 0.0002362 (50 iterations in 0.289s)\n",
      "[t-SNE] Iteration 800: error = 0.3014738, gradient norm = 0.0002060 (50 iterations in 0.294s)\n",
      "[t-SNE] Iteration 850: error = 0.3010372, gradient norm = 0.0001949 (50 iterations in 0.313s)\n",
      "[t-SNE] Iteration 900: error = 0.3007217, gradient norm = 0.0001743 (50 iterations in 0.302s)\n",
      "[t-SNE] Iteration 950: error = 0.3003593, gradient norm = 0.0002257 (50 iterations in 0.286s)\n",
      "[t-SNE] Iteration 1000: error = 0.2999299, gradient norm = 0.0001878 (50 iterations in 0.299s)\n",
      "[t-SNE] Error after 1000 iterations: 0.299930\n"
     ]
    }
   ],
   "source": [
    "one_hot_domains_questionable = df_questionable_2.groupby('user.id')[media_classes].sum().fillna(0)\n",
    "one_hot_domains_questionable = one_hot_domains_questionable.apply(normalize, axis=1).fillna(0)\n",
    "\n",
    "tsne = TSNE(n_components=2, learning_rate=150, verbose=2).fit_transform(one_hot_domains_questionable)"
   ]
  },
  {
   "cell_type": "code",
   "execution_count": 93,
   "metadata": {},
   "outputs": [
    {
     "data": {
      "image/png": "[encoded data removed]",
      "text/plain": [
       "<matplotlib.figure.Figure at 0x12491d2b0>"
      ]
     },
     "metadata": {},
     "output_type": "display_data"
    }
   ],
   "source": [
    "tx, ty = tsne[:,0], tsne[:,1]\n",
    "tx = (tx-np.min(tx)) / (np.max(tx) - np.min(tx))\n",
    "ty = (ty-np.min(ty)) / (np.max(ty) - np.min(ty))\n",
    "\n",
    "pd.DataFrame(list(zip(tx,ty))).plot.scatter(\n",
    "    x=0, y=1, alpha = .4);"
   ]
  },
  {
   "cell_type": "code",
   "execution_count": 462,
   "metadata": {},
   "outputs": [
    {
     "data": {
      "text/plain": [
       "<matplotlib.axes._subplots.AxesSubplot at 0x1a458c1b00>"
      ]
     },
     "execution_count": 462,
     "metadata": {},
     "output_type": "execute_result"
    },
    {
     "data": {
      "image/png": "[encoded data removed]",
      "text/plain": [
       "<matplotlib.figure.Figure at 0x1a47264128>"
      ]
     },
     "metadata": {},
     "output_type": "display_data"
    }
   ],
   "source": [
    "# correct joining\n",
    "breakdown[breakdown != 0].sort_values().plot(\n",
    "    kind='bar', title='Russian Trolls Number of Links per Topic'\n",
    ");"
   ]
  },
  {
   "cell_type": "markdown",
   "metadata": {},
   "source": [
    "## State level news outlets\n",
    "We can use the USNPL dataset's grainularity to label domains on a state-level."
   ]
  },
  {
   "cell_type": "code",
   "execution_count": 94,
   "metadata": {
    "collapsed": true
   },
   "outputs": [],
   "source": [
    "df_usnpl_one_hot_state = pd.get_dummies(df_usnpl[['domain', 'state_level_media', 'state']], columns=['state'])"
   ]
  },
  {
   "cell_type": "code",
   "execution_count": 95,
   "metadata": {
    "collapsed": true
   },
   "outputs": [],
   "source": [
    "df_questionable_3 = pd.merge(left= df_questionable, left_on= 'link.domain_resolved', \n",
    "                             right= df_usnpl_one_hot_state, right_on= 'domain', how= 'left')"
   ]
  },
  {
   "cell_type": "code",
   "execution_count": 96,
   "metadata": {},
   "outputs": [
    {
     "data": {
      "text/plain": [
       "bias          2797.0\n",
       "political     1702.0\n",
       "unreliable    1676.0\n",
       "state_DC      1413.0\n",
       "clickbait     1040.0\n",
       "conspiracy    1017.0\n",
       "state_NY       620.0\n",
       "hate           382.0\n",
       "fake           281.0\n",
       "state          205.0\n",
       "state_NJ       189.0\n",
       "state_VA       154.0\n",
       "state_TX       145.0\n",
       "state_AZ       139.0\n",
       "state_CA       117.0\n",
       "state_IL        67.0\n",
       "state_MO        66.0\n",
       "state_MI        59.0\n",
       "rumor           50.0\n",
       "state_PA        44.0\n",
       "dtype: float64"
      ]
     },
     "execution_count": 96,
     "metadata": {},
     "output_type": "execute_result"
    }
   ],
   "source": [
    "cols = df_os.columns.tolist() + df_usnpl_one_hot_state.columns.tolist()\n",
    "# these are the columns we'll base out calculations on.\n",
    "media_classes = [c for c in cols if c not in ['domain', 'notes']]\n",
    "breakdown = df_questionable_3[media_classes].sum(axis=0)\n",
    "breakdown.sort_values(ascending=False).head(20)"
   ]
  },
  {
   "cell_type": "code",
   "execution_count": 450,
   "metadata": {},
   "outputs": [
    {
     "name": "stdout",
     "output_type": "stream",
     "text": [
      "[t-SNE] Computing 91 nearest neighbors...\n",
      "[t-SNE] Indexed 343 samples in 0.001s...\n",
      "[t-SNE] Computed neighbors for 343 samples in 0.014s...\n",
      "[t-SNE] Computed conditional probabilities for sample 343 / 343\n",
      "[t-SNE] Mean sigma: 0.000000\n",
      "[t-SNE] Computed conditional probabilities in 0.023s\n",
      "[t-SNE] Iteration 50: error = 53.8615456, gradient norm = 0.5651188 (50 iterations in 0.472s)\n",
      "[t-SNE] Iteration 100: error = 53.9107666, gradient norm = 0.5786546 (50 iterations in 0.435s)\n",
      "[t-SNE] Iteration 150: error = 56.0051346, gradient norm = 0.5726314 (50 iterations in 0.483s)\n",
      "[t-SNE] Iteration 200: error = 54.3675957, gradient norm = 0.5751335 (50 iterations in 0.480s)\n",
      "[t-SNE] Iteration 250: error = 54.7553596, gradient norm = 0.5620599 (50 iterations in 0.438s)\n",
      "[t-SNE] KL divergence after 250 iterations with early exaggeration: 54.755360\n",
      "[t-SNE] Iteration 300: error = 0.3978505, gradient norm = 0.0024864 (50 iterations in 0.382s)\n",
      "[t-SNE] Iteration 350: error = 0.3884825, gradient norm = 0.0004062 (50 iterations in 0.388s)\n",
      "[t-SNE] Iteration 400: error = 0.3865815, gradient norm = 0.0002391 (50 iterations in 0.347s)\n",
      "[t-SNE] Iteration 450: error = 0.3850444, gradient norm = 0.0002354 (50 iterations in 0.373s)\n",
      "[t-SNE] Iteration 500: error = 0.3847268, gradient norm = 0.0001882 (50 iterations in 0.403s)\n",
      "[t-SNE] Iteration 550: error = 0.3826502, gradient norm = 0.0002105 (50 iterations in 0.433s)\n",
      "[t-SNE] Iteration 600: error = 0.3808751, gradient norm = 0.0001952 (50 iterations in 0.434s)\n",
      "[t-SNE] Iteration 650: error = 0.3814536, gradient norm = 0.0002006 (50 iterations in 0.480s)\n",
      "[t-SNE] Iteration 700: error = 0.3775900, gradient norm = 0.0002340 (50 iterations in 0.403s)\n",
      "[t-SNE] Iteration 750: error = 0.3749385, gradient norm = 0.0002035 (50 iterations in 0.392s)\n",
      "[t-SNE] Iteration 800: error = 0.3710631, gradient norm = 0.0002181 (50 iterations in 0.345s)\n",
      "[t-SNE] Iteration 850: error = 0.3658418, gradient norm = 0.0002936 (50 iterations in 0.365s)\n",
      "[t-SNE] Iteration 900: error = 0.3626775, gradient norm = 0.0002449 (50 iterations in 0.326s)\n",
      "[t-SNE] Iteration 950: error = 0.3611248, gradient norm = 0.0001671 (50 iterations in 0.382s)\n",
      "[t-SNE] Iteration 1000: error = 0.3610142, gradient norm = 0.0002050 (50 iterations in 0.324s)\n",
      "[t-SNE] Error after 1000 iterations: 0.361014\n"
     ]
    }
   ],
   "source": [
    "one_hot_domains_questionable = df_questionable_3.groupby('user.id')[media_classes].sum().fillna(0)\n",
    "one_hot_domains_questionable = one_hot_domains_questionable.apply(normalize, axis=1).fillna(0)\n",
    "\n",
    "tsne = TSNE(n_components=2, learning_rate=150, verbose=2).fit_transform(one_hot_domains_questionable)"
   ]
  },
  {
   "cell_type": "code",
   "execution_count": 97,
   "metadata": {},
   "outputs": [
    {
     "data": {
      "text/plain": [
       "<matplotlib.axes._subplots.AxesSubplot at 0x125b9b358>"
      ]
     },
     "execution_count": 97,
     "metadata": {},
     "output_type": "execute_result"
    },
    {
     "data": {
      "image/png": "[encoded data removed]",
      "text/plain": [
       "<matplotlib.figure.Figure at 0x1246d59e8>"
      ]
     },
     "metadata": {},
     "output_type": "display_data"
    }
   ],
   "source": [
    "tx, ty = tsne[:,0], tsne[:,1]\n",
    "tx = (tx-np.min(tx)) / (np.max(tx) - np.min(tx))\n",
    "ty = (ty-np.min(ty)) / (np.max(ty) - np.min(ty))\n",
    "\n",
    "pd.DataFrame(list(zip(tx,ty))).plot.scatter(\n",
    "    x=0, y=1, alpha = .4)"
   ]
  },
  {
   "cell_type": "code",
   "execution_count": 99,
   "metadata": {},
   "outputs": [
    {
     "data": {
      "image/png": "[encoded data removed]",
      "text/plain": [
       "<matplotlib.figure.Figure at 0x1241d0320>"
      ]
     },
     "metadata": {},
     "output_type": "display_data"
    }
   ],
   "source": [
    "# correct joining\n",
    "breakdown[breakdown != 0].sort_values().plot(\n",
    "    kind='bar', title='Russian Trolls Number of Links per Topic'\n",
    ");"
   ]
  },
  {
   "cell_type": "markdown",
   "metadata": {},
   "source": [
    "Looking at the DC, CA and NY news outlets suggests some flaws in USNPL.<br>\n",
    "These outlets, although located in the state are not state-level news!"
   ]
  },
  {
   "cell_type": "code",
   "execution_count": 132,
   "metadata": {},
   "outputs": [
    {
     "data": {
      "text/plain": [
       "washingtonpost.com        0.443737\n",
       "thehill.com               0.215145\n",
       "politico.com              0.151451\n",
       "washingtonexaminer.com    0.096249\n",
       "washingtontimes.com       0.048125\n",
       "townhall.com              0.045294\n",
       "Name: link.domain_resolved, dtype: float64"
      ]
     },
     "execution_count": 132,
     "metadata": {},
     "output_type": "execute_result"
    }
   ],
   "source": [
    "df_questionable_3[df_questionable_3['state_DC'] == 1]['link.domain_resolved'].value_counts(25)"
   ]
  },
  {
   "cell_type": "code",
   "execution_count": 146,
   "metadata": {},
   "outputs": [
    {
     "data": {
      "text/plain": [
       "nytimes.com        233\n",
       "nypost.com         130\n",
       "nydailynews.com    124\n",
       "wsj.com             57\n",
       "observer.com        45\n",
       "newyorker.com       15\n",
       "nymag.com           14\n",
       "silive.com           1\n",
       "amny.com             1\n",
       "Name: link.domain_resolved, dtype: int64"
      ]
     },
     "execution_count": 146,
     "metadata": {},
     "output_type": "execute_result"
    }
   ],
   "source": [
    "df_questionable_3[df_questionable_3['state_NY'] == 1]['link.domain_resolved'].value_counts()"
   ]
  },
  {
   "cell_type": "code",
   "execution_count": 138,
   "metadata": {},
   "outputs": [
    {
     "data": {
      "text/plain": [
       "investors.com               52\n",
       "latimes.com                 23\n",
       "mercurynews.com             20\n",
       "dailynews.com                9\n",
       "hollywoodreporter.com        4\n",
       "blackvoicenews.com           3\n",
       "sfchronicle.com              2\n",
       "variety.com                  2\n",
       "smobserved.com               1\n",
       "sandiegouniontribune.com     1\n",
       "Name: link.domain_resolved, dtype: int64"
      ]
     },
     "execution_count": 138,
     "metadata": {},
     "output_type": "execute_result"
    }
   ],
   "source": [
    "df_questionable_3[df_questionable_3['state_CA'] == 1]['link.domain_resolved'].value_counts()"
   ]
  },
  {
   "cell_type": "markdown",
   "metadata": {},
   "source": [
    "The other states appear to be more on-par with local news."
   ]
  },
  {
   "cell_type": "code",
   "execution_count": 145,
   "metadata": {},
   "outputs": [
    {
     "data": {
      "text/plain": [
       "nj.com    189\n",
       "Name: link.domain_resolved, dtype: int64"
      ]
     },
     "execution_count": 145,
     "metadata": {},
     "output_type": "execute_result"
    }
   ],
   "source": [
    "df_questionable_3[df_questionable_3['state_NJ'] == 1]['link.domain_resolved'].value_counts()"
   ]
  },
  {
   "cell_type": "code",
   "execution_count": 139,
   "metadata": {},
   "outputs": [
    {
     "data": {
      "text/plain": [
       "azcentral.com    139\n",
       "Name: link.domain_resolved, dtype: int64"
      ]
     },
     "execution_count": 139,
     "metadata": {},
     "output_type": "execute_result"
    }
   ],
   "source": [
    "df_questionable_3[df_questionable_3['state_AZ'] == 1]['link.domain_resolved'].value_counts()"
   ]
  },
  {
   "cell_type": "code",
   "execution_count": 140,
   "metadata": {},
   "outputs": [
    {
     "data": {
      "text/plain": [
       "mysanantonio.com     75\n",
       "chron.com            62\n",
       "star-telegram.com     4\n",
       "texastribune.org      2\n",
       "orangeleader.com      1\n",
       "dallasnews.com        1\n",
       "Name: link.domain_resolved, dtype: int64"
      ]
     },
     "execution_count": 140,
     "metadata": {},
     "output_type": "execute_result"
    }
   ],
   "source": [
    "df_questionable_3[df_questionable_3['state_TX'] == 1]['link.domain_resolved'].value_counts()"
   ]
  },
  {
   "cell_type": "code",
   "execution_count": 141,
   "metadata": {},
   "outputs": [
    {
     "data": {
      "text/plain": [
       "chicagotribune.com      51\n",
       "chicagodefender.com      9\n",
       "chicago.suntimes.com     6\n",
       "depauliaonline.com       1\n",
       "Name: link.domain_resolved, dtype: int64"
      ]
     },
     "execution_count": 141,
     "metadata": {},
     "output_type": "execute_result"
    }
   ],
   "source": [
    "df_questionable_3[df_questionable_3['state_IL'] == 1]['link.domain_resolved'].value_counts()"
   ]
  },
  {
   "cell_type": "code",
   "execution_count": 142,
   "metadata": {},
   "outputs": [
    {
     "data": {
      "text/plain": [
       "stltoday.com    66\n",
       "Name: link.domain_resolved, dtype: int64"
      ]
     },
     "execution_count": 142,
     "metadata": {},
     "output_type": "execute_result"
    }
   ],
   "source": [
    "df_questionable_3[df_questionable_3['state_MO'] == 1]['link.domain_resolved'].value_counts()"
   ]
  },
  {
   "cell_type": "code",
   "execution_count": 143,
   "metadata": {},
   "outputs": [
    {
     "data": {
      "text/plain": [
       "detroitnews.com    55\n",
       "freep.com           4\n",
       "Name: link.domain_resolved, dtype: int64"
      ]
     },
     "execution_count": 143,
     "metadata": {},
     "output_type": "execute_result"
    }
   ],
   "source": [
    "df_questionable_3[df_questionable_3['state_MI'] == 1]['link.domain_resolved'].value_counts()"
   ]
  },
  {
   "cell_type": "code",
   "execution_count": 144,
   "metadata": {},
   "outputs": [
    {
     "data": {
      "text/plain": [
       "post-gazette.com                  35\n",
       "triblive.com                       7\n",
       "timesonline.com                    1\n",
       "newpittsburghcourieronline.com     1\n",
       "Name: link.domain_resolved, dtype: int64"
      ]
     },
     "execution_count": 144,
     "metadata": {},
     "output_type": "execute_result"
    }
   ],
   "source": [
    "df_questionable_3[df_questionable_3['state_PA'] == 1]['link.domain_resolved'].value_counts()"
   ]
  },
  {
   "cell_type": "code",
   "execution_count": null,
   "metadata": {
    "collapsed": true
   },
   "outputs": [],
   "source": []
  }
 ],
 "metadata": {
  "kernelspec": {
   "display_name": "Python 3",
   "language": "python",
   "name": "python3"
  },
  "language_info": {
   "codemirror_mode": {
    "name": "ipython",
    "version": 3
   },
   "file_extension": ".py",
   "mimetype": "text/x-python",
   "name": "python",
   "nbconvert_exporter": "python",
   "pygments_lexer": "ipython3",
   "version": "3.6.2"
  }
 },
 "nbformat": 4,
 "nbformat_minor": 2
}
